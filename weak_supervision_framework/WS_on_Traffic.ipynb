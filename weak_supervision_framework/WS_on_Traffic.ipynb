{
 "cells": [
  {
   "cell_type": "code",
   "execution_count": 6,
   "id": "379144a9-9d32-4d59-8d41-c8fe20312fdc",
   "metadata": {},
   "outputs": [],
   "source": [
    "from snorkel.labeling import labeling_function\n",
    "import json\n",
    "import os\n",
    "import numpy as np"
   ]
  },
  {
   "cell_type": "code",
   "execution_count": 7,
   "id": "3f2ca185-b178-48d2-bbe3-6a1b9146026d",
   "metadata": {},
   "outputs": [],
   "source": [
    "from sklearn.metrics import confusion_matrix, precision_score, recall_score, f1_score, accuracy_score\n",
    "import numpy as np\n",
    "\n",
    "def calculate_metrics(y_true, y_pred, abstain_class=-1):\n",
    "    # Filter out samples where prediction is -1\n",
    "    valid_indices = y_pred != abstain_class\n",
    "    y_true_filtered = y_true[valid_indices]\n",
    "    y_pred_filtered = y_pred[valid_indices]\n",
    "\n",
    "    # Compute metrics\n",
    "    precision = precision_score(y_true_filtered, y_pred_filtered, average='macro')\n",
    "    recall = recall_score(y_true_filtered, y_pred_filtered, average='macro')\n",
    "    f1 = f1_score(y_true_filtered, y_pred_filtered, average='macro')\n",
    "    accuracy = accuracy_score(y_true_filtered, y_pred_filtered)\n",
    "\n",
    "    return {\n",
    "        'Precision': precision,\n",
    "        'Recall': recall,\n",
    "        'F1 Score': f1,\n",
    "        'Accuracy': accuracy\n",
    "    }"
   ]
  },
  {
   "cell_type": "code",
   "execution_count": 8,
   "id": "483cc6dc-5493-4317-b4e1-00dba2c3977d",
   "metadata": {},
   "outputs": [],
   "source": [
    "POSITIVE = 1\n",
    "NEGATIVE = 0\n",
    "ABSTAIN = -1\n",
    "\n",
    "@labeling_function()\n",
    "def llava_7b(image_name):\n",
    "    root_path = '../prompting_framework/prompting_results/traffic/'\n",
    "    llava_7b_results = 'traffic-llava-7b.json'\n",
    "    path_to_llava_7b_results = os.path.join(root_path,llava_7b_results)\n",
    "    with open(path_to_llava_7b_results, 'r') as file:\n",
    "        data = json.load(file)\n",
    "\n",
    "    return data[image_name][\"label\"] if data[image_name][\"label\"] is not None else -1\n",
    "\n",
    "# @labeling_function()\n",
    "# def llava_34b(image_name):\n",
    "#     root_path = '../prompting_framework/prompting_results/aircraft/'\n",
    "#     llava_7b_results = 'oxford-llava_34b.json'\n",
    "#     path_to_llava_7b_results = os.path.join(root_path,llava_7b_results)\n",
    "#     with open(path_to_llava_7b_results, 'r') as file:\n",
    "#         data = json.load(file)\n",
    "\n",
    "#     return data.get(image_name, -1)\n",
    "\n",
    "@labeling_function()\n",
    "def llava_13b(image_name):\n",
    "    root_path = '../prompting_framework/prompting_results/traffic/'\n",
    "    llava_7b_results = 'traffic-llava-13b.json'\n",
    "    path_to_llava_7b_results = os.path.join(root_path,llava_7b_results)\n",
    "    with open(path_to_llava_7b_results, 'r') as file:\n",
    "        data = json.load(file)\n",
    "\n",
    "    return data[image_name][\"label\"] if data[image_name][\"label\"] is not None else -1\n",
    "\n",
    "@labeling_function()\n",
    "def bakllava(image_name):\n",
    "    root_path = '../prompting_framework/prompting_results/traffic/'\n",
    "    llava_7b_results = 'traffic-bakllava.json'\n",
    "    path_to_llava_7b_results = os.path.join(root_path,llava_7b_results)\n",
    "    with open(path_to_llava_7b_results, 'r') as file:\n",
    "        data = json.load(file)\n",
    "\n",
    "    return data[image_name][\"label\"] if data[image_name][\"label\"] is not None else -1\n",
    "\n",
    "@labeling_function()\n",
    "def llava_llama3(image_name):\n",
    "    root_path = '../prompting_framework/prompting_results/traffic/'\n",
    "    llava_7b_results = 'traffic-llava-llama3.json'\n",
    "    path_to_llava_7b_results = os.path.join(root_path,llava_7b_results)\n",
    "    with open(path_to_llava_7b_results, 'r') as file:\n",
    "        data = json.load(file)\n",
    "\n",
    "    return data[image_name][\"label\"] if data[image_name][\"label\"] is not None else -1\n",
    "\n",
    "\n",
    "# @labeling_function()\n",
    "# def moondream(image_name):\n",
    "#     root_path = '../prompting_framework/prompting_results/traffic/'\n",
    "#     llava_7b_results = 'aircraft-moondream.json'\n",
    "#     path_to_llava_7b_results = os.path.join(root_path,llava_7b_results)\n",
    "#     with open(path_to_llava_7b_results, 'r') as file:\n",
    "#         data = json.load(file)\n",
    "\n",
    "#     return data[image_name][\"label\"] if data[image_name][\"label\"] is not None else -1\n",
    "\n",
    "\n",
    "@labeling_function()\n",
    "def llava_phi3(image_name):\n",
    "    root_path = '../prompting_framework/prompting_results/traffic/'\n",
    "    llava_7b_results = 'traffic-llava-phi3.json'\n",
    "    path_to_llava_7b_results = os.path.join(root_path,llava_7b_results)\n",
    "    with open(path_to_llava_7b_results, 'r') as file:\n",
    "        data = json.load(file)\n",
    "\n",
    "    return data[image_name][\"label\"] if data[image_name][\"label\"] is not None else -1\n",
    "\n",
    "\n",
    "@labeling_function()\n",
    "def llama3_2_vision(image_name):\n",
    "    root_path = '../prompting_framework/prompting_results/traffic/'\n",
    "    llava_7b_results = 'traffic-llama3.2-vision.json'\n",
    "    path_to_llava_7b_results = os.path.join(root_path,llava_7b_results)\n",
    "    with open(path_to_llava_7b_results, 'r') as file:\n",
    "        data = json.load(file)\n",
    "\n",
    "    return data[image_name][\"label\"] if data[image_name][\"label\"] is not None else -1"
   ]
  },
  {
   "cell_type": "code",
   "execution_count": 9,
   "id": "f7d2a18d-d454-4e11-bbc2-2a0f496c8604",
   "metadata": {},
   "outputs": [
    {
     "name": "stdout",
     "output_type": "stream",
     "text": [
      "There are 39209 images in the Train set.\n",
      "There are 12630 images in the test set.\n"
     ]
    }
   ],
   "source": [
    "train_data_json_path = '../prompting_framework/prompting_results/traffic/traffic-llama3.2-vision 11b-train-raw_info.json'\n",
    "test_data_json_path = '../prompting_framework/prompting_results/traffic/traffic-llama3.2-vision 11b-test-raw_info.json'\n",
    "\n",
    "with open(train_data_json_path, 'r') as file:\n",
    "    train_data = json.load(file)\n",
    "\n",
    "\n",
    "with open(test_data_json_path, 'r') as file:\n",
    "    test_data = json.load(file)\n",
    "\n",
    "# Extract and pad image names, ensuring they are 5 digits long before the '.png'\n",
    "train_image_names = []\n",
    "for item in train_data:\n",
    "    train_image_names.append(item)\n",
    "\n",
    "\n",
    "test_image_names = []\n",
    "Y_test = []\n",
    "for item in test_data:\n",
    "    test_image_names.append(item)\n",
    "    Y_test.append(test_data[item][\"label\"])\n",
    "\n",
    "# with open(dev_data_json_path, 'r') as file:\n",
    "#     dev_data = json.load(file)\n",
    "    \n",
    "# dev_image_names = []\n",
    "# Y_dev = []\n",
    "# for item in dev_data:\n",
    "#     Y_dev.append(dev_data[item])\n",
    "#     dev_image_names.append(item)\n",
    "\n",
    "print(f\"There are {len(train_image_names)} images in the Train set.\")\n",
    "\n",
    "print(f\"There are {len(test_image_names)} images in the test set.\")\n"
   ]
  },
  {
   "cell_type": "code",
   "execution_count": 11,
   "id": "a18d956b-ace1-4807-9528-4758e30c5914",
   "metadata": {},
   "outputs": [
    {
     "data": {
      "text/plain": [
       "30"
      ]
     },
     "execution_count": 11,
     "metadata": {},
     "output_type": "execute_result"
    }
   ],
   "source": [
    "llama3_2_vision(test_image_names[0])"
   ]
  },
  {
   "cell_type": "code",
   "execution_count": 12,
   "id": "ac6a0e28-91b4-44d0-a52c-afe6e5cf0a36",
   "metadata": {},
   "outputs": [],
   "source": [
    "from snorkel.labeling import LFApplier\n",
    "\n",
    "list_of_all_the_models = [\n",
    "        'llava_13b',\n",
    "       'llava_7b',\n",
    "       'llava_llama3',\n",
    "       'bakllava',\n",
    "       'llama3_2_vision',\n",
    "       'llava_phi3'\n",
    "       ]\n",
    "\n",
    "lfs = [llava_13b,\n",
    "       llava_7b,\n",
    "       llava_llama3,\n",
    "       bakllava,\n",
    "       llama3_2_vision,\n",
    "       llava_phi3\n",
    "       ]\n",
    "\n",
    "applier = LFApplier(lfs)"
   ]
  },
  {
   "cell_type": "code",
   "execution_count": null,
   "id": "f057e6f7-d7ff-4907-ab01-25314caf0822",
   "metadata": {},
   "outputs": [
    {
     "name": "stderr",
     "output_type": "stream",
     "text": [
      "12630it [49:46,  4.23it/s]\n",
      "22710it [1:30:53,  4.09it/s]"
     ]
    }
   ],
   "source": [
    "from snorkel.labeling import LFAnalysis\n",
    "\n",
    "L_test = applier.apply(test_image_names)\n",
    "L_train = applier.apply(train_image_names)"
   ]
  },
  {
   "cell_type": "code",
   "execution_count": null,
   "id": "1104c25d-d40c-4ca8-aa3f-a10eca3f7595",
   "metadata": {},
   "outputs": [],
   "source": []
  }
 ],
 "metadata": {
  "kernelspec": {
   "display_name": "Python 3 (ipykernel)",
   "language": "python",
   "name": "python3"
  },
  "language_info": {
   "codemirror_mode": {
    "name": "ipython",
    "version": 3
   },
   "file_extension": ".py",
   "mimetype": "text/x-python",
   "name": "python",
   "nbconvert_exporter": "python",
   "pygments_lexer": "ipython3",
   "version": "3.12.3"
  }
 },
 "nbformat": 4,
 "nbformat_minor": 5
}
