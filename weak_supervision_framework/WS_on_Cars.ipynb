{
 "cells": [
  {
   "cell_type": "code",
   "execution_count": 1,
   "id": "44a65009-61a4-4ee7-a028-f246a0ab38a2",
   "metadata": {},
   "outputs": [],
   "source": [
    "from snorkel.labeling import labeling_function\n",
    "import json\n",
    "import os\n",
    "import numpy as np"
   ]
  },
  {
   "cell_type": "code",
   "execution_count": 2,
   "id": "9c98b358-8487-4d72-b9ef-aa7e15daa60c",
   "metadata": {},
   "outputs": [],
   "source": [
    "from sklearn.metrics import confusion_matrix, precision_score, recall_score, f1_score, accuracy_score\n",
    "import numpy as np\n",
    "\n",
    "def calculate_metrics(y_true, y_pred, abstain_class=-1):\n",
    "    # Filter out samples where prediction is -1\n",
    "    valid_indices = y_pred != abstain_class\n",
    "    y_true_filtered = y_true[valid_indices]\n",
    "    y_pred_filtered = y_pred[valid_indices]\n",
    "\n",
    "    # Compute metrics\n",
    "    precision = precision_score(y_true_filtered, y_pred_filtered, average='macro')\n",
    "    recall = recall_score(y_true_filtered, y_pred_filtered, average='macro')\n",
    "    f1 = f1_score(y_true_filtered, y_pred_filtered, average='macro')\n",
    "    accuracy = accuracy_score(y_true_filtered, y_pred_filtered)\n",
    "\n",
    "    return {\n",
    "        'Precision': precision,\n",
    "        'Recall': recall,\n",
    "        'F1 Score': f1,\n",
    "        'Accuracy': accuracy\n",
    "    }"
   ]
  },
  {
   "cell_type": "code",
   "execution_count": 11,
   "id": "ed821367-2114-4ecc-a5a8-f8e4c52a1866",
   "metadata": {},
   "outputs": [],
   "source": [
    "POSITIVE = 1\n",
    "NEGATIVE = 0\n",
    "ABSTAIN = -1\n",
    "\n",
    "@labeling_function()\n",
    "def llava_7b(image_name):\n",
    "    root_path = '../prompting_framework/prompting_results/cars/'\n",
    "    llava_7b_results = 'cars-llava-7b.json'\n",
    "    path_to_llava_7b_results = os.path.join(root_path,llava_7b_results)\n",
    "    image_name = image_name.replace(\"'\",\"\")\n",
    "    with open(path_to_llava_7b_results, 'r') as file:\n",
    "        data = json.load(file)\n",
    "\n",
    "    return data[image_name][\"label\"] if data[image_name][\"label\"] is not None else -1\n",
    "\n",
    "# @labeling_function()\n",
    "# def llava_34b(image_name):\n",
    "#     root_path = '../prompting_framework/prompting_results/aircraft/'\n",
    "#     llava_7b_results = 'oxford-llava_34b.json'\n",
    "#     path_to_llava_7b_results = os.path.join(root_path,llava_7b_results)\n",
    "#     with open(path_to_llava_7b_results, 'r') as file:\n",
    "#         data = json.load(file)\n",
    "\n",
    "#     return data.get(image_name, -1)\n",
    "\n",
    "# @labeling_function()\n",
    "# def llava_13b(image_name):\n",
    "#     root_path = '../prompting_framework/prompting_results/cars/'\n",
    "#     llava_7b_results = 'aircraft-llava-13b.json'\n",
    "#     path_to_llava_7b_results = os.path.join(root_path,llava_7b_results)\n",
    "#     with open(path_to_llava_7b_results, 'r') as file:\n",
    "#         data = json.load(file)\n",
    "\n",
    "#     return data[image_name][\"label\"] if data[image_name][\"label\"] is not None else -1\n",
    "\n",
    "@labeling_function()\n",
    "def bakllava(image_name):\n",
    "    root_path = '../prompting_framework/prompting_results/cars/'\n",
    "    llava_7b_results = 'cars-bakllava.json'\n",
    "    path_to_llava_7b_results = os.path.join(root_path,llava_7b_results)\n",
    "    image_name = image_name.replace(\"'\",\"\")\n",
    "    with open(path_to_llava_7b_results, 'r') as file:\n",
    "        data = json.load(file)\n",
    "\n",
    "    return data[image_name][\"label\"] if data[image_name][\"label\"] is not None else -1\n",
    "\n",
    "@labeling_function()\n",
    "def llava_llama3(image_name):\n",
    "    root_path = '../prompting_framework/prompting_results/cars/'\n",
    "    llava_7b_results = 'cars-llava-llama3.json'\n",
    "    path_to_llava_7b_results = os.path.join(root_path,llava_7b_results)\n",
    "    image_name = image_name.replace(\"'\",\"\")\n",
    "    with open(path_to_llava_7b_results, 'r') as file:\n",
    "        data = json.load(file)\n",
    "\n",
    "    return data[image_name][\"label\"] if data[image_name][\"label\"] is not None else -1\n",
    "\n",
    "\n",
    "@labeling_function()\n",
    "def moondream(image_name):\n",
    "    root_path = '../prompting_framework/prompting_results/cars/'\n",
    "    llava_7b_results = 'cars-moondream.json'\n",
    "    path_to_llava_7b_results = os.path.join(root_path,llava_7b_results)\n",
    "    image_name = image_name.replace(\"'\",\"\")\n",
    "    with open(path_to_llava_7b_results, 'r') as file:\n",
    "        data = json.load(file)\n",
    "\n",
    "    return data[image_name][\"label\"] if data[image_name][\"label\"] is not None else -1\n",
    "\n",
    "\n",
    "@labeling_function()\n",
    "def llava_phi3(image_name):\n",
    "    root_path = '../prompting_framework/prompting_results/cars/'\n",
    "    llava_7b_results = 'cars-llava-phi3.json'\n",
    "    path_to_llava_7b_results = os.path.join(root_path,llava_7b_results)\n",
    "    image_name = image_name.replace(\"'\",\"\")\n",
    "    with open(path_to_llava_7b_results, 'r') as file:\n",
    "        data = json.load(file)\n",
    "\n",
    "    return data[image_name][\"label\"] if data[image_name][\"label\"] is not None else -1\n",
    "\n",
    "\n",
    "# @labeling_function()\n",
    "# def llama3_2_vision(image_name):\n",
    "#     root_path = '../prompting_framework/prompting_results/cars/'\n",
    "#     llava_7b_results = 'aircraft-llama3.2-vision-11b.json'\n",
    "#     path_to_llava_7b_results = os.path.join(root_path,llava_7b_results)\n",
    "#     with open(path_to_llava_7b_results, 'r') as file:\n",
    "#         data = json.load(file)\n",
    "\n",
    "#     return data[image_name][\"label\"] if data[image_name][\"label\"] is not None else -1"
   ]
  },
  {
   "cell_type": "code",
   "execution_count": 12,
   "id": "d7e40e59-c290-4596-82cd-b327b3e053b8",
   "metadata": {},
   "outputs": [
    {
     "name": "stdout",
     "output_type": "stream",
     "text": [
      "There are 8144 images in the Train set.\n",
      "There are 8041 images in the test set.\n"
     ]
    }
   ],
   "source": [
    "train_data_json_path = '../prompting_framework/prompting_results/cars/cars-moondream-train-raw_info.json'\n",
    "test_data_json_path = '../prompting_framework/prompting_results/cars/cars-moondream-test-raw_info.json'\n",
    "\n",
    "with open(train_data_json_path, 'r') as file:\n",
    "    train_data = json.load(file)\n",
    "\n",
    "# with open(val_data_json_path, 'r') as file:\n",
    "#     val_data = json.load(file)\n",
    "\n",
    "with open(test_data_json_path, 'r') as file:\n",
    "    test_data = json.load(file)\n",
    "\n",
    "# Extract and pad image names, ensuring they are 5 digits long before the '.png'\n",
    "train_image_names = []\n",
    "for item in train_data:\n",
    "    train_image_names.append(item)\n",
    "\n",
    "# val_image_names = []\n",
    "# Y_val = []\n",
    "# for item in val_data:\n",
    "#     val_image_names.append(item)\n",
    "#     Y_val.append(val_data[item][\"label\"])\n",
    "\n",
    "test_image_names = []\n",
    "Y_test = []\n",
    "for item in test_data:\n",
    "    test_image_names.append(item)\n",
    "    Y_test.append(test_data[item][\"label\"])\n",
    "\n",
    "# with open(dev_data_json_path, 'r') as file:\n",
    "#     dev_data = json.load(file)\n",
    "    \n",
    "# dev_image_names = []\n",
    "# Y_dev = []\n",
    "# for item in dev_data:\n",
    "#     Y_dev.append(dev_data[item])\n",
    "#     dev_image_names.append(item)\n",
    "\n",
    "print(f\"There are {len(train_image_names)} images in the Train set.\")\n",
    "# print(f\"There are {len(val_image_names)} images in the val set.\")\n",
    "print(f\"There are {len(test_image_names)} images in the test set.\")\n"
   ]
  },
  {
   "cell_type": "code",
   "execution_count": 13,
   "id": "abff4d21-62e3-4761-af7d-26cf94fcf153",
   "metadata": {},
   "outputs": [
    {
     "data": {
      "text/plain": [
       "14"
      ]
     },
     "execution_count": 13,
     "metadata": {},
     "output_type": "execute_result"
    }
   ],
   "source": [
    "llava_7b(train_image_names[0])"
   ]
  },
  {
   "cell_type": "code",
   "execution_count": 14,
   "id": "7adbff1e-598f-4907-a741-d2bef93153c8",
   "metadata": {},
   "outputs": [],
   "source": [
    "from snorkel.labeling import LFApplier\n",
    "\n",
    "list_of_all_the_models = ['bakllava',\n",
    "       'llava_7b',\n",
    "       'llava_llama3',\n",
    "       'moondream',\n",
    "       'llava_phi3'\n",
    "       ]\n",
    "\n",
    "lfs = [bakllava,\n",
    "       llava_7b,\n",
    "       llava_llama3,\n",
    "       moondream,\n",
    "       llava_phi3\n",
    "       ]\n",
    "\n",
    "applier = LFApplier(lfs)"
   ]
  },
  {
   "cell_type": "code",
   "execution_count": 15,
   "id": "6740d9cc-a9e6-4b24-b3cf-974c58e8ae4a",
   "metadata": {},
   "outputs": [
    {
     "name": "stderr",
     "output_type": "stream",
     "text": [
      "8041it [07:30, 17.85it/s]\n",
      "8144it [07:34, 17.91it/s]\n"
     ]
    }
   ],
   "source": [
    "from snorkel.labeling import LFAnalysis\n",
    "\n",
    "L_test = applier.apply(test_image_names)\n",
    "L_train = applier.apply(train_image_names)"
   ]
  },
  {
   "cell_type": "code",
   "execution_count": 16,
   "id": "691c679a-4b50-4268-a734-f1eb3c05a2dc",
   "metadata": {},
   "outputs": [],
   "source": [
    "np.save(\"L_train_cars_1.npy\", L_train)\n",
    "np.save(\"L_test_cars_1.npy\", L_test)"
   ]
  },
  {
   "cell_type": "code",
   "execution_count": 21,
   "id": "6aeb50ed-5eda-4a8b-a1b2-5e60057ec868",
   "metadata": {},
   "outputs": [
    {
     "data": {
      "text/html": [
       "<div>\n",
       "<style scoped>\n",
       "    .dataframe tbody tr th:only-of-type {\n",
       "        vertical-align: middle;\n",
       "    }\n",
       "\n",
       "    .dataframe tbody tr th {\n",
       "        vertical-align: top;\n",
       "    }\n",
       "\n",
       "    .dataframe thead th {\n",
       "        text-align: right;\n",
       "    }\n",
       "</style>\n",
       "<table border=\"1\" class=\"dataframe\">\n",
       "  <thead>\n",
       "    <tr style=\"text-align: right;\">\n",
       "      <th></th>\n",
       "      <th>j</th>\n",
       "      <th>Polarity</th>\n",
       "      <th>Coverage</th>\n",
       "      <th>Overlaps</th>\n",
       "      <th>Conflicts</th>\n",
       "      <th>Correct</th>\n",
       "      <th>Incorrect</th>\n",
       "      <th>Emp. Acc.</th>\n",
       "    </tr>\n",
       "  </thead>\n",
       "  <tbody>\n",
       "    <tr>\n",
       "      <th>bakllava</th>\n",
       "      <td>0</td>\n",
       "      <td>[0, 1, 2, 5, 6, 10, 11, 12, 14, 16, 17, 18, 20...</td>\n",
       "      <td>1.000000</td>\n",
       "      <td>1.000000</td>\n",
       "      <td>0.998881</td>\n",
       "      <td>301</td>\n",
       "      <td>7740</td>\n",
       "      <td>0.037433</td>\n",
       "    </tr>\n",
       "    <tr>\n",
       "      <th>llava_7b</th>\n",
       "      <td>1</td>\n",
       "      <td>[0, 1, 2, 3, 4, 5, 6, 7, 9, 10, 11, 14, 16, 17...</td>\n",
       "      <td>1.000000</td>\n",
       "      <td>1.000000</td>\n",
       "      <td>0.998881</td>\n",
       "      <td>926</td>\n",
       "      <td>7115</td>\n",
       "      <td>0.115160</td>\n",
       "    </tr>\n",
       "    <tr>\n",
       "      <th>llava_llama3</th>\n",
       "      <td>2</td>\n",
       "      <td>[0, 1, 2, 3, 5, 6, 8, 9, 10, 11, 13, 14, 16, 1...</td>\n",
       "      <td>1.000000</td>\n",
       "      <td>1.000000</td>\n",
       "      <td>0.998881</td>\n",
       "      <td>648</td>\n",
       "      <td>7393</td>\n",
       "      <td>0.080587</td>\n",
       "    </tr>\n",
       "    <tr>\n",
       "      <th>moondream</th>\n",
       "      <td>3</td>\n",
       "      <td>[0, 1, 2, 5, 6, 11, 14, 17, 23, 24, 27, 31, 32...</td>\n",
       "      <td>0.996145</td>\n",
       "      <td>0.996145</td>\n",
       "      <td>0.995150</td>\n",
       "      <td>86</td>\n",
       "      <td>7924</td>\n",
       "      <td>0.010737</td>\n",
       "    </tr>\n",
       "    <tr>\n",
       "      <th>llava_phi3</th>\n",
       "      <td>4</td>\n",
       "      <td>[0, 1, 2, 3, 4, 5, 6, 8, 10, 11, 12, 13, 14, 1...</td>\n",
       "      <td>0.879741</td>\n",
       "      <td>0.879741</td>\n",
       "      <td>0.878746</td>\n",
       "      <td>449</td>\n",
       "      <td>6625</td>\n",
       "      <td>0.063472</td>\n",
       "    </tr>\n",
       "  </tbody>\n",
       "</table>\n",
       "</div>"
      ],
      "text/plain": [
       "              j                                           Polarity  Coverage  \\\n",
       "bakllava      0  [0, 1, 2, 5, 6, 10, 11, 12, 14, 16, 17, 18, 20...  1.000000   \n",
       "llava_7b      1  [0, 1, 2, 3, 4, 5, 6, 7, 9, 10, 11, 14, 16, 17...  1.000000   \n",
       "llava_llama3  2  [0, 1, 2, 3, 5, 6, 8, 9, 10, 11, 13, 14, 16, 1...  1.000000   \n",
       "moondream     3  [0, 1, 2, 5, 6, 11, 14, 17, 23, 24, 27, 31, 32...  0.996145   \n",
       "llava_phi3    4  [0, 1, 2, 3, 4, 5, 6, 8, 10, 11, 12, 13, 14, 1...  0.879741   \n",
       "\n",
       "              Overlaps  Conflicts  Correct  Incorrect  Emp. Acc.  \n",
       "bakllava      1.000000   0.998881      301       7740   0.037433  \n",
       "llava_7b      1.000000   0.998881      926       7115   0.115160  \n",
       "llava_llama3  1.000000   0.998881      648       7393   0.080587  \n",
       "moondream     0.996145   0.995150       86       7924   0.010737  \n",
       "llava_phi3    0.879741   0.878746      449       6625   0.063472  "
      ]
     },
     "execution_count": 21,
     "metadata": {},
     "output_type": "execute_result"
    }
   ],
   "source": [
    "Y_test = np.array(Y_test)\n",
    "LFAnalysis(L_test, lfs).lf_summary(Y_test-1)"
   ]
  },
  {
   "cell_type": "code",
   "execution_count": 23,
   "id": "852e67bb-6b61-43c8-8795-8fe74ba88a7c",
   "metadata": {},
   "outputs": [
    {
     "data": {
      "text/plain": [
       "195"
      ]
     },
     "execution_count": 23,
     "metadata": {},
     "output_type": "execute_result"
    }
   ],
   "source": [
    "np.max(Y_test-1)"
   ]
  },
  {
   "cell_type": "code",
   "execution_count": 19,
   "id": "0d782106-d00a-43da-b7eb-f7b043d82319",
   "metadata": {},
   "outputs": [
    {
     "data": {
      "text/plain": [
       "195"
      ]
     },
     "execution_count": 19,
     "metadata": {},
     "output_type": "execute_result"
    }
   ],
   "source": [
    "np.max(L_test)"
   ]
  }
 ],
 "metadata": {
  "kernelspec": {
   "display_name": "Python 3 (ipykernel)",
   "language": "python",
   "name": "python3"
  },
  "language_info": {
   "codemirror_mode": {
    "name": "ipython",
    "version": 3
   },
   "file_extension": ".py",
   "mimetype": "text/x-python",
   "name": "python",
   "nbconvert_exporter": "python",
   "pygments_lexer": "ipython3",
   "version": "3.12.3"
  }
 },
 "nbformat": 4,
 "nbformat_minor": 5
}
