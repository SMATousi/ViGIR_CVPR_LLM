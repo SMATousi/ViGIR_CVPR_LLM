{
 "cells": [
  {
   "cell_type": "code",
   "execution_count": 1,
   "id": "574853b5-dadd-409b-9c63-620c6d60a0e5",
   "metadata": {},
   "outputs": [],
   "source": [
    "import ollama\n",
    "import os\n",
    "from tqdm import tqdm\n",
    "import json\n",
    "import argparse\n",
    "import wandb\n",
    "import pandas as pd\n",
    "import sys\n",
    "from PIL import Image\n",
    "from transformers import AutoTokenizer, CLIPTextModel, CLIPTokenizer, CLIPModel \n",
    "from torch.nn.functional import cosine_similarity\n",
    "import torch\n",
    "import signal\n",
    "import torch.nn.functional as F\n",
    "from scipy.spatial.distance import cosine"
   ]
  },
  {
   "cell_type": "code",
   "execution_count": 28,
   "id": "4e3817ad-d02e-4466-8e9d-ee5096ff14fe",
   "metadata": {},
   "outputs": [],
   "source": [
    "def get_image_urls(input_path, dataset_name, split):\n",
    "    # Define the paths to the train and test CSVs\n",
    "    csv_path = os.path.join(input_path, f'{dataset_name}_{split}_labels.csv')\n",
    "\n",
    "    # Initialize a list to store image URLs\n",
    "\n",
    "    # Function to read CSV and extract image URLs (excluding \"no image\" labels)\n",
    "    \n",
    "    try:\n",
    "        # Read CSV file into a DataFrame\n",
    "        df = pd.read_csv(csv_path, on_bad_lines='skip')\n",
    "        \n",
    "        # Check if the necessary columns exist\n",
    "        if 'url' not in df.columns or 'label' not in df.columns:\n",
    "            print(f\"CSV file {csv_path} does not contain required columns.\")\n",
    "            return []\n",
    "\n",
    "        # Filter rows where label is not \"no image\"\n",
    "        for i in range(len(df['label'])):\n",
    "    \n",
    "            if df['label'].loc[i] == 'positive':\n",
    "                \n",
    "                df['label'].loc[i] = 'Yes' \n",
    "        \n",
    "            elif df['label'].loc[i] == 'negative':\n",
    "        \n",
    "                df['label'].loc[i] = 'No' \n",
    "        \n",
    "        valid_urls_and_labels = df[df['label'] != 'no image'].to_dict()\n",
    "\n",
    "    except Exception as e:\n",
    "        print(f\"Error reading {csv_path}: {e}\")\n",
    "\n",
    "    # Extract image URLs from both train and test datasets\n",
    "    \n",
    "\n",
    "    return valid_urls_and_labels"
   ]
  },
  {
   "cell_type": "code",
   "execution_count": 31,
   "id": "7b3546bb-6e5a-42b6-8ca4-8f16d1d83b13",
   "metadata": {},
   "outputs": [
    {
     "name": "stderr",
     "output_type": "stream",
     "text": [
      "/tmp/ipykernel_714284/757605373.py:23: FutureWarning: ChainedAssignmentError: behaviour will change in pandas 3.0!\n",
      "You are setting values through chained assignment. Currently this works in certain cases, but when using Copy-on-Write (which will become the default behaviour in pandas 3.0) this will never work to update the original DataFrame or Series, because the intermediate object on which we are setting values will behave as a copy.\n",
      "A typical example is when you are setting values in a column of a DataFrame, like:\n",
      "\n",
      "df[\"col\"][row_indexer] = value\n",
      "\n",
      "Use `df.loc[row_indexer, \"col\"] = values` instead, to perform the assignment in a single step and ensure this keeps updating the original `df`.\n",
      "\n",
      "See the caveats in the documentation: https://pandas.pydata.org/pandas-docs/stable/user_guide/indexing.html#returning-a-view-versus-a-copy\n",
      "\n",
      "  df['label'].loc[i] = 'Yes'\n",
      "/tmp/ipykernel_714284/757605373.py:27: FutureWarning: ChainedAssignmentError: behaviour will change in pandas 3.0!\n",
      "You are setting values through chained assignment. Currently this works in certain cases, but when using Copy-on-Write (which will become the default behaviour in pandas 3.0) this will never work to update the original DataFrame or Series, because the intermediate object on which we are setting values will behave as a copy.\n",
      "A typical example is when you are setting values in a column of a DataFrame, like:\n",
      "\n",
      "df[\"col\"][row_indexer] = value\n",
      "\n",
      "Use `df.loc[row_indexer, \"col\"] = values` instead, to perform the assignment in a single step and ensure this keeps updating the original `df`.\n",
      "\n",
      "See the caveats in the documentation: https://pandas.pydata.org/pandas-docs/stable/user_guide/indexing.html#returning-a-view-versus-a-copy\n",
      "\n",
      "  df['label'].loc[i] = 'No'\n"
     ]
    }
   ],
   "source": [
    "data = {}\n",
    "base_dir = \"/home/macula/SMATousi/CVPR/ViGIR_CVPR_LLM/datasets/agile_modeling/\" #args.base_dir #\n",
    "dataset_name = \"arts-and-crafts\"\n",
    "subset = 'train'\n",
    "raw_data = get_image_urls(base_dir, dataset_name, subset)"
   ]
  },
  {
   "cell_type": "code",
   "execution_count": 32,
   "id": "06b544ff-1cc9-4833-954b-f3e25948637e",
   "metadata": {},
   "outputs": [],
   "source": []
  },
  {
   "cell_type": "code",
   "execution_count": 15,
   "id": "2834ca63-6470-455d-9e08-0060be72bb41",
   "metadata": {},
   "outputs": [],
   "source": [
    "csv_path = os.path.join(base_dir, f'{dataset_name}_{subset}_labels.csv')\n",
    "\n",
    "# Initialize a list to store image URLs\n",
    "\n",
    "# Function to read CSV and extract image URLs (excluding \"no image\" labels)\n",
    "\n",
    "\n",
    "# Read CSV file into a DataFrame\n",
    "raw_data = pd.read_csv(csv_path, on_bad_lines='skip')"
   ]
  },
  {
   "cell_type": "code",
   "execution_count": 23,
   "id": "6fcdaa95-f103-443f-b486-3ab688663e3a",
   "metadata": {},
   "outputs": [
    {
     "data": {
      "text/plain": [
       "'positive'"
      ]
     },
     "execution_count": 23,
     "metadata": {},
     "output_type": "execute_result"
    }
   ],
   "source": [
    "df['label'].loc[0]"
   ]
  },
  {
   "cell_type": "code",
   "execution_count": 39,
   "id": "631bbc55-9958-4591-be8f-0d4bf43278cd",
   "metadata": {},
   "outputs": [],
   "source": [
    "all_urls = raw_data['url']\n",
    "all_labels = raw_data['label']\n",
    "\n",
    "data = {}\n",
    "\n",
    "for index, url in all_urls.items():\n",
    "\n",
    "    # print(url, index)\n",
    "    # print(all_labels[index])\n",
    "    \n",
    "    # break\n",
    "    # class_id = d\n",
    "    class_name = all_labels[index]\n",
    "    image_index = index\n",
    "    image_url = url\n",
    "    \n",
    "    data[image_index] = {\"label\" : class_name, \"url\": image_url}\n",
    "    "
   ]
  },
  {
   "cell_type": "code",
   "execution_count": 45,
   "id": "4e7a4bcd-71b8-4165-990a-1c52c73ab34c",
   "metadata": {},
   "outputs": [
    {
     "name": "stderr",
     "output_type": "stream",
     "text": [
      "  0%|                                                                                                                   | 0/2863 [00:00<?, ?it/s]"
     ]
    },
    {
     "name": "stdout",
     "output_type": "stream",
     "text": [
      "https://img.wonderhowto.com/img/66/91/63475250348631/0/crochet-cable-cross-over-stitch.300x140.jpg\n"
     ]
    },
    {
     "name": "stderr",
     "output_type": "stream",
     "text": [
      "\n"
     ]
    }
   ],
   "source": [
    "for key in tqdm(data.keys()):\n",
    "\n",
    "\n",
    "    image_url = data[key][\"url\"]\n",
    "\n",
    "    print(image_url)\n",
    "\n",
    "    break"
   ]
  },
  {
   "cell_type": "code",
   "execution_count": null,
   "id": "f92c3c11-011f-4a7e-9e21-022adab27cf6",
   "metadata": {},
   "outputs": [],
   "source": []
  }
 ],
 "metadata": {
  "kernelspec": {
   "display_name": "Python 3 (ipykernel)",
   "language": "python",
   "name": "python3"
  },
  "language_info": {
   "codemirror_mode": {
    "name": "ipython",
    "version": 3
   },
   "file_extension": ".py",
   "mimetype": "text/x-python",
   "name": "python",
   "nbconvert_exporter": "python",
   "pygments_lexer": "ipython3",
   "version": "3.12.3"
  }
 },
 "nbformat": 4,
 "nbformat_minor": 5
}
