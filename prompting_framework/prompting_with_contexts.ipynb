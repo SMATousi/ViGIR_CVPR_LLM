{
 "cells": [
  {
   "cell_type": "code",
   "execution_count": 1,
   "id": "fe550622-b794-4ed7-aaa3-e3ca5fe9c3e5",
   "metadata": {},
   "outputs": [
    {
     "name": "stderr",
     "output_type": "stream",
     "text": [
      "/opt/conda/lib/python3.10/site-packages/tqdm/auto.py:21: TqdmWarning: IProgress not found. Please update jupyter and ipywidgets. See https://ipywidgets.readthedocs.io/en/stable/user_install.html\n",
      "  from .autonotebook import tqdm as notebook_tqdm\n",
      "/opt/conda/lib/python3.10/site-packages/torchvision/datapoints/__init__.py:12: UserWarning: The torchvision.datapoints and torchvision.transforms.v2 namespaces are still Beta. While we do not expect major breaking changes, some APIs may still change according to user feedback. Please submit any feedback you may have in this issue: https://github.com/pytorch/vision/issues/6753, and you can also check out https://github.com/pytorch/vision/issues/7319 to learn more about the APIs that we suspect might involve future changes. You can silence this warning by calling torchvision.disable_beta_transforms_warning().\n",
      "  warnings.warn(_BETA_TRANSFORMS_WARNING)\n",
      "/opt/conda/lib/python3.10/site-packages/torchvision/transforms/v2/__init__.py:54: UserWarning: The torchvision.datapoints and torchvision.transforms.v2 namespaces are still Beta. While we do not expect major breaking changes, some APIs may still change according to user feedback. Please submit any feedback you may have in this issue: https://github.com/pytorch/vision/issues/6753, and you can also check out https://github.com/pytorch/vision/issues/7319 to learn more about the APIs that we suspect might involve future changes. You can silence this warning by calling torchvision.disable_beta_transforms_warning().\n",
      "  warnings.warn(_BETA_TRANSFORMS_WARNING)\n"
     ]
    }
   ],
   "source": [
    "import ollama \n",
    "import os\n",
    "from tqdm import tqdm\n",
    "import signal\n",
    "import random\n",
    "import numpy as np\n",
    "import json\n",
    "import numpy as np\n",
    "from PIL import Image\n",
    "import pandas as pd\n",
    "from sklearn.metrics import precision_score, recall_score, f1_score, accuracy_score\n",
    "from transformers import AutoProcessor, CLIPModel # pip install transformers\n",
    "# jupyter notebook --ip 0.0.0.0 --port 8889 --allow-root\n",
    "# kubectl port-forward dep-cvpr-7d4d4b94f9-82829 8889:8889"
   ]
  },
  {
   "cell_type": "code",
   "execution_count": 2,
   "id": "0deeedd4-f365-4cb3-833e-0f57e61d62ac",
   "metadata": {},
   "outputs": [],
   "source": [
    "base_path = '/root/home/data/hateful_memes/'\n",
    "images_path = os.path.join(base_path, \"img\")\n",
    "\n",
    "list_of_image_names = os.listdir(images_path)"
   ]
  },
  {
   "cell_type": "code",
   "execution_count": 3,
   "id": "c289106a-2b7f-4a3d-ae1f-1539f5bdc376",
   "metadata": {},
   "outputs": [],
   "source": [
    "def check_yes_no(text):\n",
    "    # Strip any leading/trailing whitespace and convert to lowercase\n",
    "    text = text.strip().lower()\n",
    "\n",
    "    # Check if the text starts with 'yes' or 'no'\n",
    "    if text.startswith(\"yes\"):\n",
    "        return 1\n",
    "    elif text.startswith(\"no\"):\n",
    "        return 0\n",
    "    else:\n",
    "        return None  \n",
    "    \n",
    "class TimeoutException(Exception):\n",
    "    pass\n",
    "\n",
    "def timeout_handler(signum, frame):\n",
    "    raise TimeoutException\n",
    "\n",
    "\n",
    "def read_jsonl_file(file_path):\n",
    "    data = []\n",
    "    with open(file_path, 'r') as f:\n",
    "        for line in f:\n",
    "            entry = json.loads(line.strip())\n",
    "            data.append(entry)\n",
    "    return data\n",
    "\n",
    "def load_image_and_label(entry, img_base_path):\n",
    "    img_path = f\"{img_base_path}/{entry['img']}\"\n",
    "    try:\n",
    "        img = Image.open(img_path)\n",
    "        label = entry['label']\n",
    "        return img, label\n",
    "    except FileNotFoundError:\n",
    "        print(f\"Image {img_path} not found.\")\n",
    "        return None, None\n",
    "\n",
    "\n",
    "def load_dev_file(input_file):\n",
    "    dev_data = {}\n",
    "    with open(input_file, 'r') as infile:\n",
    "        for line in infile:\n",
    "            # Load each JSON line as a dictionary\n",
    "            entry = json.loads(line.strip())\n",
    "        \n",
    "            # Use the image path as the key and the label as the value\n",
    "            dev_data[entry[\"img\"]] = entry[\"label\"]\n",
    "    return dev_data\n",
    "\n",
    "dev_file = os.path.join(base_path, \"dev.jsonl\")\n",
    "dev_data = load_dev_file(dev_file)"
   ]
  },
  {
   "cell_type": "code",
   "execution_count": 5,
   "id": "eba100c3-68e2-4b91-a2bc-6a7b3a1fe339",
   "metadata": {},
   "outputs": [
    {
     "data": {
      "text/plain": [
       "{'status': 'success'}"
      ]
     },
     "execution_count": 5,
     "metadata": {},
     "output_type": "execute_result"
    }
   ],
   "source": [
    "list_of_models = ['llava:7b', \n",
    "                  'llava:13b',\n",
    "                  'llava:34b',\n",
    "                  'llava-llama3',\n",
    "                  'bakllava',\n",
    "                  'moondream',\n",
    "                  'minicpm-v',\n",
    "                  'llava-phi3']\n",
    "\n",
    "ollama.pull('llava:7b') #pull the desired model"
   ]
  },
  {
   "cell_type": "code",
   "execution_count": 4,
   "id": "99c7385a-8e86-4a68-88be-06c209653eee",
   "metadata": {},
   "outputs": [],
   "source": [
    "# Split dev_file\n",
    "hateful_data = {}\n",
    "nonhateful_data = {}\n",
    "\n",
    "for key in dev_data :\n",
    "    if dev_data[key] == 1 :\n",
    "        hateful_data[key] = dev_data[key]\n",
    "    else  :\n",
    "        nonhateful_data[key] = dev_data[key]\n",
    "hateful_images = list(hateful_data.keys())\n",
    "nonhateful_images = list(nonhateful_data.keys())\n"
   ]
  },
  {
   "cell_type": "markdown",
   "id": "e0374d59-b319-4b02-bc6e-1b0e686499e9",
   "metadata": {},
   "source": [
    "# Prepare CLIP Model"
   ]
  },
  {
   "cell_type": "code",
   "execution_count": 5,
   "id": "23fe9165-a6cf-4d93-9c7f-97235a5e5b8a",
   "metadata": {},
   "outputs": [
    {
     "data": {
      "text/plain": [
       "CLIPModel(\n",
       "  (text_model): CLIPTextTransformer(\n",
       "    (embeddings): CLIPTextEmbeddings(\n",
       "      (token_embedding): Embedding(49408, 768)\n",
       "      (position_embedding): Embedding(77, 768)\n",
       "    )\n",
       "    (encoder): CLIPEncoder(\n",
       "      (layers): ModuleList(\n",
       "        (0-11): 12 x CLIPEncoderLayer(\n",
       "          (self_attn): CLIPAttention(\n",
       "            (k_proj): Linear(in_features=768, out_features=768, bias=True)\n",
       "            (v_proj): Linear(in_features=768, out_features=768, bias=True)\n",
       "            (q_proj): Linear(in_features=768, out_features=768, bias=True)\n",
       "            (out_proj): Linear(in_features=768, out_features=768, bias=True)\n",
       "          )\n",
       "          (layer_norm1): LayerNorm((768,), eps=1e-05, elementwise_affine=True)\n",
       "          (mlp): CLIPMLP(\n",
       "            (activation_fn): QuickGELUActivation()\n",
       "            (fc1): Linear(in_features=768, out_features=3072, bias=True)\n",
       "            (fc2): Linear(in_features=3072, out_features=768, bias=True)\n",
       "          )\n",
       "          (layer_norm2): LayerNorm((768,), eps=1e-05, elementwise_affine=True)\n",
       "        )\n",
       "      )\n",
       "    )\n",
       "    (final_layer_norm): LayerNorm((768,), eps=1e-05, elementwise_affine=True)\n",
       "  )\n",
       "  (vision_model): CLIPVisionTransformer(\n",
       "    (embeddings): CLIPVisionEmbeddings(\n",
       "      (patch_embedding): Conv2d(3, 1024, kernel_size=(14, 14), stride=(14, 14), bias=False)\n",
       "      (position_embedding): Embedding(257, 1024)\n",
       "    )\n",
       "    (pre_layrnorm): LayerNorm((1024,), eps=1e-05, elementwise_affine=True)\n",
       "    (encoder): CLIPEncoder(\n",
       "      (layers): ModuleList(\n",
       "        (0-23): 24 x CLIPEncoderLayer(\n",
       "          (self_attn): CLIPAttention(\n",
       "            (k_proj): Linear(in_features=1024, out_features=1024, bias=True)\n",
       "            (v_proj): Linear(in_features=1024, out_features=1024, bias=True)\n",
       "            (q_proj): Linear(in_features=1024, out_features=1024, bias=True)\n",
       "            (out_proj): Linear(in_features=1024, out_features=1024, bias=True)\n",
       "          )\n",
       "          (layer_norm1): LayerNorm((1024,), eps=1e-05, elementwise_affine=True)\n",
       "          (mlp): CLIPMLP(\n",
       "            (activation_fn): QuickGELUActivation()\n",
       "            (fc1): Linear(in_features=1024, out_features=4096, bias=True)\n",
       "            (fc2): Linear(in_features=4096, out_features=1024, bias=True)\n",
       "          )\n",
       "          (layer_norm2): LayerNorm((1024,), eps=1e-05, elementwise_affine=True)\n",
       "        )\n",
       "      )\n",
       "    )\n",
       "    (post_layernorm): LayerNorm((1024,), eps=1e-05, elementwise_affine=True)\n",
       "  )\n",
       "  (visual_projection): Linear(in_features=1024, out_features=768, bias=False)\n",
       "  (text_projection): Linear(in_features=768, out_features=768, bias=False)\n",
       ")"
      ]
     },
     "execution_count": 5,
     "metadata": {},
     "output_type": "execute_result"
    }
   ],
   "source": [
    "model = CLIPModel.from_pretrained(\"openai/clip-vit-large-patch14\")\n",
    "processor = AutoProcessor.from_pretrained(\"openai/clip-vit-large-patch14\")\n",
    "device = \"cuda\"\n",
    "model.to(device)"
   ]
  },
  {
   "cell_type": "code",
   "execution_count": 8,
   "id": "a3a0f36f-77de-4f4f-9ecf-6a533cfaae5f",
   "metadata": {},
   "outputs": [],
   "source": [
    "import torch"
   ]
  },
  {
   "cell_type": "code",
   "execution_count": 9,
   "id": "77a21bd6-07b7-4d5b-8e21-9a5d7ee46f9e",
   "metadata": {},
   "outputs": [
    {
     "name": "stderr",
     "output_type": "stream",
     "text": [
      "  0%|                                                                                                                  | 0/250 [00:00<?, ?it/s]"
     ]
    },
    {
     "name": "stdout",
     "output_type": "stream",
     "text": [
      "Processing Hateful: /root/home/data/hateful_memes/img/08291.png\n"
     ]
    },
    {
     "name": "stderr",
     "output_type": "stream",
     "text": [
      "  2%|█▋                                                                                                        | 4/250 [00:00<00:35,  6.84it/s]"
     ]
    },
    {
     "name": "stdout",
     "output_type": "stream",
     "text": [
      "Processing Hateful: /root/home/data/hateful_memes/img/46971.png\n",
      "Processing Hateful: /root/home/data/hateful_memes/img/03745.png\n",
      "Processing Hateful: /root/home/data/hateful_memes/img/83745.png\n",
      "Processing Hateful: /root/home/data/hateful_memes/img/80243.png\n",
      "Processing Hateful: /root/home/data/hateful_memes/img/05279.png\n",
      "Processing Hateful: /root/home/data/hateful_memes/img/01796.png\n"
     ]
    },
    {
     "name": "stderr",
     "output_type": "stream",
     "text": [
      "  4%|████▌                                                                                                    | 11/250 [00:00<00:14, 17.05it/s]"
     ]
    },
    {
     "name": "stdout",
     "output_type": "stream",
     "text": [
      "Processing Hateful: /root/home/data/hateful_memes/img/53046.png\n",
      "Processing Hateful: /root/home/data/hateful_memes/img/82301.png\n",
      "Processing Hateful: /root/home/data/hateful_memes/img/31752.png\n",
      "Processing Hateful: /root/home/data/hateful_memes/img/27635.png\n",
      "Processing Hateful: /root/home/data/hateful_memes/img/80597.png\n",
      "Processing Hateful: /root/home/data/hateful_memes/img/45368.png\n",
      "Processing Hateful: /root/home/data/hateful_memes/img/17963.png\n"
     ]
    },
    {
     "name": "stderr",
     "output_type": "stream",
     "text": [
      "  7%|███████▏                                                                                                 | 17/250 [00:01<00:10, 21.95it/s]"
     ]
    },
    {
     "name": "stdout",
     "output_type": "stream",
     "text": [
      "Processing Hateful: /root/home/data/hateful_memes/img/53968.png\n",
      "Processing Hateful: /root/home/data/hateful_memes/img/10749.png\n",
      "Processing Hateful: /root/home/data/hateful_memes/img/25149.png\n",
      "Processing Hateful: /root/home/data/hateful_memes/img/87520.png\n",
      "Processing Hateful: /root/home/data/hateful_memes/img/89071.png\n",
      "Processing Hateful: /root/home/data/hateful_memes/img/09563.png\n"
     ]
    },
    {
     "name": "stderr",
     "output_type": "stream",
     "text": [
      " 10%|██████████                                                                                               | 24/250 [00:01<00:09, 24.76it/s]"
     ]
    },
    {
     "name": "stdout",
     "output_type": "stream",
     "text": [
      "Processing Hateful: /root/home/data/hateful_memes/img/72048.png\n",
      "Processing Hateful: /root/home/data/hateful_memes/img/49826.png\n",
      "Processing Hateful: /root/home/data/hateful_memes/img/26453.png\n",
      "Processing Hateful: /root/home/data/hateful_memes/img/12650.png\n",
      "Processing Hateful: /root/home/data/hateful_memes/img/02568.png\n",
      "Processing Hateful: /root/home/data/hateful_memes/img/83954.png\n"
     ]
    },
    {
     "name": "stderr",
     "output_type": "stream",
     "text": [
      " 12%|█████████████                                                                                            | 31/250 [00:01<00:08, 27.24it/s]"
     ]
    },
    {
     "name": "stdout",
     "output_type": "stream",
     "text": [
      "Processing Hateful: /root/home/data/hateful_memes/img/24316.png\n",
      "Processing Hateful: /root/home/data/hateful_memes/img/62035.png\n",
      "Processing Hateful: /root/home/data/hateful_memes/img/65342.png\n",
      "Processing Hateful: /root/home/data/hateful_memes/img/92058.png\n",
      "Processing Hateful: /root/home/data/hateful_memes/img/58672.png\n",
      "Processing Hateful: /root/home/data/hateful_memes/img/54069.png\n"
     ]
    },
    {
     "name": "stderr",
     "output_type": "stream",
     "text": [
      " 15%|███████████████▉                                                                                         | 38/250 [00:01<00:07, 28.58it/s]"
     ]
    },
    {
     "name": "stdout",
     "output_type": "stream",
     "text": [
      "Processing Hateful: /root/home/data/hateful_memes/img/91586.png\n",
      "Processing Hateful: /root/home/data/hateful_memes/img/87130.png\n",
      "Processing Hateful: /root/home/data/hateful_memes/img/95640.png\n",
      "Processing Hateful: /root/home/data/hateful_memes/img/47819.png\n",
      "Processing Hateful: /root/home/data/hateful_memes/img/59140.png\n",
      "Processing Hateful: /root/home/data/hateful_memes/img/13647.png\n",
      "Processing Hateful: /root/home/data/hateful_memes/img/65832.png\n"
     ]
    },
    {
     "name": "stderr",
     "output_type": "stream",
     "text": [
      " 18%|██████████████████▍                                                                                      | 44/250 [00:02<00:07, 28.69it/s]"
     ]
    },
    {
     "name": "stdout",
     "output_type": "stream",
     "text": [
      "Processing Hateful: /root/home/data/hateful_memes/img/57621.png\n",
      "Processing Hateful: /root/home/data/hateful_memes/img/40982.png\n",
      "Processing Hateful: /root/home/data/hateful_memes/img/43275.png\n",
      "Processing Hateful: /root/home/data/hateful_memes/img/12973.png\n",
      "Processing Hateful: /root/home/data/hateful_memes/img/74350.png\n",
      "Processing Hateful: /root/home/data/hateful_memes/img/02478.png\n"
     ]
    },
    {
     "name": "stderr",
     "output_type": "stream",
     "text": [
      " 19%|███████████████████▋                                                                                     | 47/250 [00:02<00:07, 28.43it/s]"
     ]
    },
    {
     "name": "stdout",
     "output_type": "stream",
     "text": [
      "Processing Hateful: /root/home/data/hateful_memes/img/51607.png\n",
      "Processing Hateful: /root/home/data/hateful_memes/img/65403.png\n",
      "Processing Hateful: /root/home/data/hateful_memes/img/29750.png\n",
      "Processing Hateful: /root/home/data/hateful_memes/img/26547.png\n",
      "Processing Hateful: /root/home/data/hateful_memes/img/02143.png\n",
      "Processing Hateful: /root/home/data/hateful_memes/img/68192.png\n"
     ]
    },
    {
     "name": "stderr",
     "output_type": "stream",
     "text": [
      " 22%|██████████████████████▋                                                                                  | 54/250 [00:02<00:07, 27.05it/s]"
     ]
    },
    {
     "name": "stdout",
     "output_type": "stream",
     "text": [
      "Processing Hateful: /root/home/data/hateful_memes/img/52603.png\n",
      "Processing Hateful: /root/home/data/hateful_memes/img/06491.png\n",
      "Processing Hateful: /root/home/data/hateful_memes/img/74013.png\n",
      "Processing Hateful: /root/home/data/hateful_memes/img/27485.png\n",
      "Processing Hateful: /root/home/data/hateful_memes/img/13026.png\n",
      "Processing Hateful: /root/home/data/hateful_memes/img/14026.png\n"
     ]
    },
    {
     "name": "stderr",
     "output_type": "stream",
     "text": [
      " 24%|█████████████████████████▏                                                                               | 60/250 [00:02<00:07, 25.92it/s]"
     ]
    },
    {
     "name": "stdout",
     "output_type": "stream",
     "text": [
      "Processing Hateful: /root/home/data/hateful_memes/img/18945.png\n",
      "Processing Hateful: /root/home/data/hateful_memes/img/83920.png\n",
      "Processing Hateful: /root/home/data/hateful_memes/img/39607.png\n",
      "Processing Hateful: /root/home/data/hateful_memes/img/09715.png\n",
      "Processing Hateful: /root/home/data/hateful_memes/img/01925.png\n"
     ]
    },
    {
     "name": "stderr",
     "output_type": "stream",
     "text": [
      " 26%|███████████████████████████▋                                                                             | 66/250 [00:02<00:06, 27.05it/s]"
     ]
    },
    {
     "name": "stdout",
     "output_type": "stream",
     "text": [
      "Processing Hateful: /root/home/data/hateful_memes/img/29437.png\n",
      "Processing Hateful: /root/home/data/hateful_memes/img/64891.png\n",
      "Processing Hateful: /root/home/data/hateful_memes/img/63280.png\n",
      "Processing Hateful: /root/home/data/hateful_memes/img/17682.png\n",
      "Processing Hateful: /root/home/data/hateful_memes/img/84510.png\n",
      "Processing Hateful: /root/home/data/hateful_memes/img/03567.png\n"
     ]
    },
    {
     "name": "stderr",
     "output_type": "stream",
     "text": [
      " 29%|██████████████████████████████▏                                                                          | 72/250 [00:03<00:06, 26.26it/s]"
     ]
    },
    {
     "name": "stdout",
     "output_type": "stream",
     "text": [
      "Processing Hateful: /root/home/data/hateful_memes/img/95830.png\n",
      "Processing Hateful: /root/home/data/hateful_memes/img/29873.png\n",
      "Processing Hateful: /root/home/data/hateful_memes/img/70953.png\n",
      "Processing Hateful: /root/home/data/hateful_memes/img/10386.png\n",
      "Processing Hateful: /root/home/data/hateful_memes/img/19530.png\n",
      "Processing Hateful: /root/home/data/hateful_memes/img/94185.png\n"
     ]
    },
    {
     "name": "stderr",
     "output_type": "stream",
     "text": [
      " 32%|█████████████████████████████████▌                                                                       | 80/250 [00:03<00:05, 28.70it/s]"
     ]
    },
    {
     "name": "stdout",
     "output_type": "stream",
     "text": [
      "Processing Hateful: /root/home/data/hateful_memes/img/48370.png\n",
      "Processing Hateful: /root/home/data/hateful_memes/img/83946.png\n",
      "Processing Hateful: /root/home/data/hateful_memes/img/39578.png\n",
      "Processing Hateful: /root/home/data/hateful_memes/img/06123.png\n",
      "Processing Hateful: /root/home/data/hateful_memes/img/17028.png\n",
      "Processing Hateful: /root/home/data/hateful_memes/img/71680.png\n"
     ]
    },
    {
     "name": "stderr",
     "output_type": "stream",
     "text": [
      " 33%|██████████████████████████████████▊                                                                      | 83/250 [00:03<00:05, 28.46it/s]"
     ]
    },
    {
     "name": "stdout",
     "output_type": "stream",
     "text": [
      "Processing Hateful: /root/home/data/hateful_memes/img/79085.png\n",
      "Processing Hateful: /root/home/data/hateful_memes/img/61872.png\n",
      "Processing Hateful: /root/home/data/hateful_memes/img/43810.png\n",
      "Processing Hateful: /root/home/data/hateful_memes/img/19730.png\n",
      "Processing Hateful: /root/home/data/hateful_memes/img/96284.png\n",
      "Processing Hateful: /root/home/data/hateful_memes/img/97068.png\n"
     ]
    },
    {
     "name": "stderr",
     "output_type": "stream",
     "text": [
      " 36%|█████████████████████████████████████▍                                                                   | 89/250 [00:03<00:05, 28.64it/s]"
     ]
    },
    {
     "name": "stdout",
     "output_type": "stream",
     "text": [
      "Processing Hateful: /root/home/data/hateful_memes/img/23810.png\n",
      "Processing Hateful: /root/home/data/hateful_memes/img/91836.png\n",
      "Processing Hateful: /root/home/data/hateful_memes/img/05126.png\n",
      "Processing Hateful: /root/home/data/hateful_memes/img/64072.png\n",
      "Processing Hateful: /root/home/data/hateful_memes/img/91058.png\n",
      "Processing Hateful: /root/home/data/hateful_memes/img/32691.png\n"
     ]
    },
    {
     "name": "stderr",
     "output_type": "stream",
     "text": [
      " 38%|███████████████████████████████████████▉                                                                 | 95/250 [00:03<00:05, 28.02it/s]"
     ]
    },
    {
     "name": "stdout",
     "output_type": "stream",
     "text": [
      "Processing Hateful: /root/home/data/hateful_memes/img/87169.png\n",
      "Processing Hateful: /root/home/data/hateful_memes/img/92738.png\n",
      "Processing Hateful: /root/home/data/hateful_memes/img/43910.png\n",
      "Processing Hateful: /root/home/data/hateful_memes/img/56207.png\n",
      "Processing Hateful: /root/home/data/hateful_memes/img/68459.png\n",
      "Processing Hateful: /root/home/data/hateful_memes/img/61973.png\n"
     ]
    },
    {
     "name": "stderr",
     "output_type": "stream",
     "text": [
      " 40%|██████████████████████████████████████████                                                              | 101/250 [00:04<00:05, 26.97it/s]"
     ]
    },
    {
     "name": "stdout",
     "output_type": "stream",
     "text": [
      "Processing Hateful: /root/home/data/hateful_memes/img/73069.png\n",
      "Processing Hateful: /root/home/data/hateful_memes/img/47056.png\n",
      "Processing Hateful: /root/home/data/hateful_memes/img/94560.png\n",
      "Processing Hateful: /root/home/data/hateful_memes/img/04857.png\n",
      "Processing Hateful: /root/home/data/hateful_memes/img/79603.png\n"
     ]
    },
    {
     "name": "stderr",
     "output_type": "stream",
     "text": [
      " 43%|████████████████████████████████████████████▌                                                           | 107/250 [00:04<00:05, 26.00it/s]"
     ]
    },
    {
     "name": "stdout",
     "output_type": "stream",
     "text": [
      "Processing Hateful: /root/home/data/hateful_memes/img/26985.png\n",
      "Processing Hateful: /root/home/data/hateful_memes/img/14873.png\n",
      "Processing Hateful: /root/home/data/hateful_memes/img/96472.png\n",
      "Processing Hateful: /root/home/data/hateful_memes/img/76921.png\n",
      "Processing Hateful: /root/home/data/hateful_memes/img/68409.png\n",
      "Processing Hateful: /root/home/data/hateful_memes/img/16354.png\n"
     ]
    },
    {
     "name": "stderr",
     "output_type": "stream",
     "text": [
      " 45%|███████████████████████████████████████████████                                                         | 113/250 [00:04<00:05, 26.08it/s]"
     ]
    },
    {
     "name": "stdout",
     "output_type": "stream",
     "text": [
      "Processing Hateful: /root/home/data/hateful_memes/img/69548.png\n",
      "Processing Hateful: /root/home/data/hateful_memes/img/01456.png\n",
      "Processing Hateful: /root/home/data/hateful_memes/img/42580.png\n",
      "Processing Hateful: /root/home/data/hateful_memes/img/96180.png\n",
      "Processing Hateful: /root/home/data/hateful_memes/img/98701.png\n",
      "Processing Hateful: /root/home/data/hateful_memes/img/62375.png\n"
     ]
    },
    {
     "name": "stderr",
     "output_type": "stream",
     "text": [
      " 48%|█████████████████████████████████████████████████▌                                                      | 119/250 [00:04<00:04, 27.38it/s]"
     ]
    },
    {
     "name": "stdout",
     "output_type": "stream",
     "text": [
      "Processing Hateful: /root/home/data/hateful_memes/img/31208.png\n",
      "Processing Hateful: /root/home/data/hateful_memes/img/62319.png\n",
      "Processing Hateful: /root/home/data/hateful_memes/img/68253.png\n",
      "Processing Hateful: /root/home/data/hateful_memes/img/34687.png\n",
      "Processing Hateful: /root/home/data/hateful_memes/img/39827.png\n",
      "Processing Hateful: /root/home/data/hateful_memes/img/46920.png\n"
     ]
    },
    {
     "name": "stderr",
     "output_type": "stream",
     "text": [
      " 50%|████████████████████████████████████████████████████                                                    | 125/250 [00:05<00:04, 26.89it/s]"
     ]
    },
    {
     "name": "stdout",
     "output_type": "stream",
     "text": [
      "Processing Hateful: /root/home/data/hateful_memes/img/54780.png\n",
      "Processing Hateful: /root/home/data/hateful_memes/img/69150.png\n",
      "Processing Hateful: /root/home/data/hateful_memes/img/71620.png\n",
      "Processing Hateful: /root/home/data/hateful_memes/img/91756.png\n",
      "Processing Hateful: /root/home/data/hateful_memes/img/63745.png\n",
      "Processing Hateful: /root/home/data/hateful_memes/img/47162.png\n"
     ]
    },
    {
     "name": "stderr",
     "output_type": "stream",
     "text": [
      " 53%|██████████████████████████████████████████████████████▉                                                 | 132/250 [00:05<00:04, 27.57it/s]"
     ]
    },
    {
     "name": "stdout",
     "output_type": "stream",
     "text": [
      "Processing Hateful: /root/home/data/hateful_memes/img/07135.png\n",
      "Processing Hateful: /root/home/data/hateful_memes/img/84015.png\n",
      "Processing Hateful: /root/home/data/hateful_memes/img/82590.png\n",
      "Processing Hateful: /root/home/data/hateful_memes/img/59738.png\n",
      "Processing Hateful: /root/home/data/hateful_memes/img/72061.png\n",
      "Processing Hateful: /root/home/data/hateful_memes/img/03524.png\n"
     ]
    },
    {
     "name": "stderr",
     "output_type": "stream",
     "text": [
      " 55%|█████████████████████████████████████████████████████████▍                                              | 138/250 [00:05<00:04, 27.42it/s]"
     ]
    },
    {
     "name": "stdout",
     "output_type": "stream",
     "text": [
      "Processing Hateful: /root/home/data/hateful_memes/img/86170.png\n",
      "Processing Hateful: /root/home/data/hateful_memes/img/54930.png\n",
      "Processing Hateful: /root/home/data/hateful_memes/img/38076.png\n",
      "Processing Hateful: /root/home/data/hateful_memes/img/38910.png\n",
      "Processing Hateful: /root/home/data/hateful_memes/img/06723.png\n",
      "Processing Hateful: /root/home/data/hateful_memes/img/02157.png\n"
     ]
    },
    {
     "name": "stderr",
     "output_type": "stream",
     "text": [
      " 56%|██████████████████████████████████████████████████████████▋                                             | 141/250 [00:05<00:04, 26.20it/s]"
     ]
    },
    {
     "name": "stdout",
     "output_type": "stream",
     "text": [
      "Processing Hateful: /root/home/data/hateful_memes/img/62948.png\n",
      "Processing Hateful: /root/home/data/hateful_memes/img/73601.png\n",
      "Processing Hateful: /root/home/data/hateful_memes/img/21567.png\n",
      "Processing Hateful: /root/home/data/hateful_memes/img/01765.png\n",
      "Processing Hateful: /root/home/data/hateful_memes/img/32568.png\n"
     ]
    },
    {
     "name": "stderr",
     "output_type": "stream",
     "text": [
      " 59%|█████████████████████████████████████████████████████████████▌                                          | 148/250 [00:05<00:03, 27.45it/s]"
     ]
    },
    {
     "name": "stdout",
     "output_type": "stream",
     "text": [
      "Processing Hateful: /root/home/data/hateful_memes/img/56098.png\n",
      "Processing Hateful: /root/home/data/hateful_memes/img/34018.png\n",
      "Processing Hateful: /root/home/data/hateful_memes/img/89362.png\n",
      "Processing Hateful: /root/home/data/hateful_memes/img/80426.png\n",
      "Processing Hateful: /root/home/data/hateful_memes/img/83045.png\n",
      "Processing Hateful: /root/home/data/hateful_memes/img/41890.png\n"
     ]
    },
    {
     "name": "stderr",
     "output_type": "stream",
     "text": [
      " 62%|████████████████████████████████████████████████████████████████                                        | 154/250 [00:06<00:03, 27.13it/s]"
     ]
    },
    {
     "name": "stdout",
     "output_type": "stream",
     "text": [
      "Processing Hateful: /root/home/data/hateful_memes/img/52091.png\n",
      "Processing Hateful: /root/home/data/hateful_memes/img/24396.png\n",
      "Processing Hateful: /root/home/data/hateful_memes/img/72168.png\n",
      "Processing Hateful: /root/home/data/hateful_memes/img/85761.png\n",
      "Processing Hateful: /root/home/data/hateful_memes/img/90256.png\n",
      "Processing Hateful: /root/home/data/hateful_memes/img/95086.png\n"
     ]
    },
    {
     "name": "stderr",
     "output_type": "stream",
     "text": [
      " 64%|██████████████████████████████████████████████████████████████████▌                                     | 160/250 [00:06<00:03, 28.22it/s]"
     ]
    },
    {
     "name": "stdout",
     "output_type": "stream",
     "text": [
      "Processing Hateful: /root/home/data/hateful_memes/img/80512.png\n",
      "Processing Hateful: /root/home/data/hateful_memes/img/82437.png\n",
      "Processing Hateful: /root/home/data/hateful_memes/img/26943.png\n",
      "Processing Hateful: /root/home/data/hateful_memes/img/07429.png\n",
      "Processing Hateful: /root/home/data/hateful_memes/img/75639.png\n",
      "Processing Hateful: /root/home/data/hateful_memes/img/63827.png\n"
     ]
    },
    {
     "name": "stderr",
     "output_type": "stream",
     "text": [
      " 66%|█████████████████████████████████████████████████████████████████████                                   | 166/250 [00:06<00:03, 27.74it/s]"
     ]
    },
    {
     "name": "stdout",
     "output_type": "stream",
     "text": [
      "Processing Hateful: /root/home/data/hateful_memes/img/41276.png\n",
      "Processing Hateful: /root/home/data/hateful_memes/img/56413.png\n",
      "Processing Hateful: /root/home/data/hateful_memes/img/43175.png\n",
      "Processing Hateful: /root/home/data/hateful_memes/img/23645.png\n",
      "Processing Hateful: /root/home/data/hateful_memes/img/89425.png\n",
      "Processing Hateful: /root/home/data/hateful_memes/img/16923.png\n"
     ]
    },
    {
     "name": "stderr",
     "output_type": "stream",
     "text": [
      " 69%|███████████████████████████████████████████████████████████████████████▌                                | 172/250 [00:06<00:02, 26.88it/s]"
     ]
    },
    {
     "name": "stdout",
     "output_type": "stream",
     "text": [
      "Processing Hateful: /root/home/data/hateful_memes/img/04769.png\n",
      "Processing Hateful: /root/home/data/hateful_memes/img/69815.png\n",
      "Processing Hateful: /root/home/data/hateful_memes/img/50317.png\n",
      "Processing Hateful: /root/home/data/hateful_memes/img/73914.png\n",
      "Processing Hateful: /root/home/data/hateful_memes/img/03197.png\n",
      "Processing Hateful: /root/home/data/hateful_memes/img/68530.png\n"
     ]
    },
    {
     "name": "stderr",
     "output_type": "stream",
     "text": [
      " 71%|██████████████████████████████████████████████████████████████████████████                              | 178/250 [00:07<00:02, 27.68it/s]"
     ]
    },
    {
     "name": "stdout",
     "output_type": "stream",
     "text": [
      "Processing Hateful: /root/home/data/hateful_memes/img/03519.png\n",
      "Processing Hateful: /root/home/data/hateful_memes/img/84756.png\n",
      "Processing Hateful: /root/home/data/hateful_memes/img/12834.png\n",
      "Processing Hateful: /root/home/data/hateful_memes/img/10785.png\n",
      "Processing Hateful: /root/home/data/hateful_memes/img/07382.png\n",
      "Processing Hateful: /root/home/data/hateful_memes/img/84762.png\n"
     ]
    },
    {
     "name": "stderr",
     "output_type": "stream",
     "text": [
      " 74%|████████████████████████████████████████████████████████████████████████████▌                           | 184/250 [00:07<00:02, 26.48it/s]"
     ]
    },
    {
     "name": "stdout",
     "output_type": "stream",
     "text": [
      "Processing Hateful: /root/home/data/hateful_memes/img/85679.png\n",
      "Processing Hateful: /root/home/data/hateful_memes/img/73962.png\n",
      "Processing Hateful: /root/home/data/hateful_memes/img/24098.png\n",
      "Processing Hateful: /root/home/data/hateful_memes/img/67435.png\n",
      "Processing Hateful: /root/home/data/hateful_memes/img/05938.png\n",
      "Processing Hateful: /root/home/data/hateful_memes/img/30148.png\n"
     ]
    },
    {
     "name": "stderr",
     "output_type": "stream",
     "text": [
      " 76%|███████████████████████████████████████████████████████████████████████████████                         | 190/250 [00:07<00:02, 26.68it/s]"
     ]
    },
    {
     "name": "stdout",
     "output_type": "stream",
     "text": [
      "Processing Hateful: /root/home/data/hateful_memes/img/56241.png\n",
      "Processing Hateful: /root/home/data/hateful_memes/img/28905.png\n",
      "Processing Hateful: /root/home/data/hateful_memes/img/06582.png\n",
      "Processing Hateful: /root/home/data/hateful_memes/img/31570.png\n",
      "Processing Hateful: /root/home/data/hateful_memes/img/01726.png\n",
      "Processing Hateful: /root/home/data/hateful_memes/img/10285.png\n"
     ]
    },
    {
     "name": "stderr",
     "output_type": "stream",
     "text": [
      " 78%|█████████████████████████████████████████████████████████████████████████████████▌                      | 196/250 [00:07<00:01, 27.31it/s]"
     ]
    },
    {
     "name": "stdout",
     "output_type": "stream",
     "text": [
      "Processing Hateful: /root/home/data/hateful_memes/img/95604.png\n",
      "Processing Hateful: /root/home/data/hateful_memes/img/42631.png\n",
      "Processing Hateful: /root/home/data/hateful_memes/img/61349.png\n",
      "Processing Hateful: /root/home/data/hateful_memes/img/19536.png\n",
      "Processing Hateful: /root/home/data/hateful_memes/img/02634.png\n",
      "Processing Hateful: /root/home/data/hateful_memes/img/07198.png\n"
     ]
    },
    {
     "name": "stderr",
     "output_type": "stream",
     "text": [
      " 81%|████████████████████████████████████████████████████████████████████████████████████                    | 202/250 [00:07<00:01, 27.64it/s]"
     ]
    },
    {
     "name": "stdout",
     "output_type": "stream",
     "text": [
      "Processing Hateful: /root/home/data/hateful_memes/img/45702.png\n",
      "Processing Hateful: /root/home/data/hateful_memes/img/28017.png\n",
      "Processing Hateful: /root/home/data/hateful_memes/img/72904.png\n",
      "Processing Hateful: /root/home/data/hateful_memes/img/90243.png\n",
      "Processing Hateful: /root/home/data/hateful_memes/img/35840.png\n",
      "Processing Hateful: /root/home/data/hateful_memes/img/93620.png\n"
     ]
    },
    {
     "name": "stderr",
     "output_type": "stream",
     "text": [
      " 83%|██████████████████████████████████████████████████████████████████████████████████████▌                 | 208/250 [00:08<00:01, 26.73it/s]"
     ]
    },
    {
     "name": "stdout",
     "output_type": "stream",
     "text": [
      "Processing Hateful: /root/home/data/hateful_memes/img/10362.png\n",
      "Processing Hateful: /root/home/data/hateful_memes/img/09467.png\n",
      "Processing Hateful: /root/home/data/hateful_memes/img/60183.png\n",
      "Processing Hateful: /root/home/data/hateful_memes/img/47263.png\n",
      "Processing Hateful: /root/home/data/hateful_memes/img/19508.png\n",
      "Processing Hateful: /root/home/data/hateful_memes/img/02783.png\n"
     ]
    },
    {
     "name": "stderr",
     "output_type": "stream",
     "text": [
      " 86%|█████████████████████████████████████████████████████████████████████████████████████████               | 214/250 [00:08<00:01, 27.26it/s]"
     ]
    },
    {
     "name": "stdout",
     "output_type": "stream",
     "text": [
      "Processing Hateful: /root/home/data/hateful_memes/img/50241.png\n",
      "Processing Hateful: /root/home/data/hateful_memes/img/49650.png\n",
      "Processing Hateful: /root/home/data/hateful_memes/img/26187.png\n",
      "Processing Hateful: /root/home/data/hateful_memes/img/74906.png\n",
      "Processing Hateful: /root/home/data/hateful_memes/img/28190.png\n",
      "Processing Hateful: /root/home/data/hateful_memes/img/89642.png\n"
     ]
    },
    {
     "name": "stderr",
     "output_type": "stream",
     "text": [
      " 88%|███████████████████████████████████████████████████████████████████████████████████████████▌            | 220/250 [00:08<00:01, 27.20it/s]"
     ]
    },
    {
     "name": "stdout",
     "output_type": "stream",
     "text": [
      "Processing Hateful: /root/home/data/hateful_memes/img/37658.png\n",
      "Processing Hateful: /root/home/data/hateful_memes/img/95613.png\n",
      "Processing Hateful: /root/home/data/hateful_memes/img/43805.png\n",
      "Processing Hateful: /root/home/data/hateful_memes/img/18306.png\n",
      "Processing Hateful: /root/home/data/hateful_memes/img/46518.png\n",
      "Processing Hateful: /root/home/data/hateful_memes/img/18547.png\n"
     ]
    },
    {
     "name": "stderr",
     "output_type": "stream",
     "text": [
      " 90%|██████████████████████████████████████████████████████████████████████████████████████████████          | 226/250 [00:08<00:00, 26.09it/s]"
     ]
    },
    {
     "name": "stdout",
     "output_type": "stream",
     "text": [
      "Processing Hateful: /root/home/data/hateful_memes/img/98543.png\n",
      "Processing Hateful: /root/home/data/hateful_memes/img/86417.png\n",
      "Processing Hateful: /root/home/data/hateful_memes/img/72864.png\n",
      "Processing Hateful: /root/home/data/hateful_memes/img/83264.png\n",
      "Processing Hateful: /root/home/data/hateful_memes/img/97305.png\n",
      "Processing Hateful: /root/home/data/hateful_memes/img/07653.png\n"
     ]
    },
    {
     "name": "stderr",
     "output_type": "stream",
     "text": [
      " 93%|████████████████████████████████████████████████████████████████████████████████████████████████▌       | 232/250 [00:09<00:00, 25.99it/s]"
     ]
    },
    {
     "name": "stdout",
     "output_type": "stream",
     "text": [
      "Processing Hateful: /root/home/data/hateful_memes/img/68043.png\n",
      "Processing Hateful: /root/home/data/hateful_memes/img/20861.png\n",
      "Processing Hateful: /root/home/data/hateful_memes/img/47016.png\n",
      "Processing Hateful: /root/home/data/hateful_memes/img/14389.png\n",
      "Processing Hateful: /root/home/data/hateful_memes/img/13809.png\n",
      "Processing Hateful: /root/home/data/hateful_memes/img/50261.png\n"
     ]
    },
    {
     "name": "stderr",
     "output_type": "stream",
     "text": [
      " 95%|███████████████████████████████████████████████████████████████████████████████████████████████████     | 238/250 [00:09<00:00, 27.44it/s]"
     ]
    },
    {
     "name": "stdout",
     "output_type": "stream",
     "text": [
      "Processing Hateful: /root/home/data/hateful_memes/img/75286.png\n",
      "Processing Hateful: /root/home/data/hateful_memes/img/64312.png\n",
      "Processing Hateful: /root/home/data/hateful_memes/img/67103.png\n",
      "Processing Hateful: /root/home/data/hateful_memes/img/18059.png\n",
      "Processing Hateful: /root/home/data/hateful_memes/img/48296.png\n",
      "Processing Hateful: /root/home/data/hateful_memes/img/91763.png\n",
      "Processing Hateful: /root/home/data/hateful_memes/img/80947.png\n"
     ]
    },
    {
     "name": "stderr",
     "output_type": "stream",
     "text": [
      " 98%|█████████████████████████████████████████████████████████████████████████████████████████████████████▌  | 244/250 [00:09<00:00, 26.90it/s]"
     ]
    },
    {
     "name": "stdout",
     "output_type": "stream",
     "text": [
      "Processing Hateful: /root/home/data/hateful_memes/img/78251.png\n",
      "Processing Hateful: /root/home/data/hateful_memes/img/27498.png\n",
      "Processing Hateful: /root/home/data/hateful_memes/img/54108.png\n",
      "Processing Hateful: /root/home/data/hateful_memes/img/93528.png\n",
      "Processing Hateful: /root/home/data/hateful_memes/img/29054.png\n",
      "Processing Hateful: /root/home/data/hateful_memes/img/06273.png\n"
     ]
    },
    {
     "name": "stderr",
     "output_type": "stream",
     "text": [
      "100%|████████████████████████████████████████████████████████████████████████████████████████████████████████| 250/250 [00:09<00:00, 25.78it/s]\n"
     ]
    },
    {
     "name": "stdout",
     "output_type": "stream",
     "text": [
      "Processing Hateful: /root/home/data/hateful_memes/img/25061.png\n",
      "Processing Hateful: /root/home/data/hateful_memes/img/34528.png\n",
      "Processing Hateful: /root/home/data/hateful_memes/img/07528.png\n"
     ]
    },
    {
     "name": "stderr",
     "output_type": "stream",
     "text": [
      "  0%|                                                                                                                  | 0/250 [00:00<?, ?it/s]"
     ]
    },
    {
     "name": "stdout",
     "output_type": "stream",
     "text": [
      "Processing Non-Hateful: /root/home/data/hateful_memes/img/05349.png\n",
      "Processing Non-Hateful: /root/home/data/hateful_memes/img/17265.png\n",
      "Processing Non-Hateful: /root/home/data/hateful_memes/img/91405.png\n"
     ]
    },
    {
     "name": "stderr",
     "output_type": "stream",
     "text": [
      "  1%|█▎                                                                                                        | 3/250 [00:00<00:09, 25.17it/s]"
     ]
    },
    {
     "name": "stdout",
     "output_type": "stream",
     "text": [
      "Processing Non-Hateful: /root/home/data/hateful_memes/img/83497.png\n",
      "Processing Non-Hateful: /root/home/data/hateful_memes/img/04569.png\n",
      "Processing Non-Hateful: /root/home/data/hateful_memes/img/94813.png\n"
     ]
    },
    {
     "name": "stderr",
     "output_type": "stream",
     "text": [
      "  2%|██▌                                                                                                       | 6/250 [00:00<00:08, 27.46it/s]"
     ]
    },
    {
     "name": "stdout",
     "output_type": "stream",
     "text": [
      "Processing Non-Hateful: /root/home/data/hateful_memes/img/95038.png\n",
      "Processing Non-Hateful: /root/home/data/hateful_memes/img/28690.png\n",
      "Processing Non-Hateful: /root/home/data/hateful_memes/img/56124.png\n"
     ]
    },
    {
     "name": "stderr",
     "output_type": "stream",
     "text": [
      "  4%|███▊                                                                                                      | 9/250 [00:00<00:09, 25.88it/s]"
     ]
    },
    {
     "name": "stdout",
     "output_type": "stream",
     "text": [
      "Processing Non-Hateful: /root/home/data/hateful_memes/img/74058.png\n",
      "Processing Non-Hateful: /root/home/data/hateful_memes/img/45062.png\n",
      "Processing Non-Hateful: /root/home/data/hateful_memes/img/94170.png\n"
     ]
    },
    {
     "name": "stderr",
     "output_type": "stream",
     "text": [
      "  5%|█████                                                                                                    | 12/250 [00:00<00:09, 26.16it/s]"
     ]
    },
    {
     "name": "stdout",
     "output_type": "stream",
     "text": [
      "Processing Non-Hateful: /root/home/data/hateful_memes/img/04538.png\n",
      "Processing Non-Hateful: /root/home/data/hateful_memes/img/68127.png\n",
      "Processing Non-Hateful: /root/home/data/hateful_memes/img/97453.png\n"
     ]
    },
    {
     "name": "stderr",
     "output_type": "stream",
     "text": [
      "  6%|██████▋                                                                                                  | 16/250 [00:00<00:08, 28.16it/s]"
     ]
    },
    {
     "name": "stdout",
     "output_type": "stream",
     "text": [
      "Processing Non-Hateful: /root/home/data/hateful_memes/img/49360.png\n",
      "Processing Non-Hateful: /root/home/data/hateful_memes/img/87034.png\n",
      "Processing Non-Hateful: /root/home/data/hateful_memes/img/42903.png\n"
     ]
    },
    {
     "name": "stderr",
     "output_type": "stream",
     "text": [
      "  8%|███████▉                                                                                                 | 19/250 [00:00<00:08, 27.27it/s]"
     ]
    },
    {
     "name": "stdout",
     "output_type": "stream",
     "text": [
      "Processing Non-Hateful: /root/home/data/hateful_memes/img/24135.png\n",
      "Processing Non-Hateful: /root/home/data/hateful_memes/img/32875.png\n",
      "Processing Non-Hateful: /root/home/data/hateful_memes/img/30579.png\n"
     ]
    },
    {
     "name": "stderr",
     "output_type": "stream",
     "text": [
      "  9%|█████████▋                                                                                               | 23/250 [00:00<00:08, 27.76it/s]"
     ]
    },
    {
     "name": "stdout",
     "output_type": "stream",
     "text": [
      "Processing Non-Hateful: /root/home/data/hateful_memes/img/62504.png\n",
      "Processing Non-Hateful: /root/home/data/hateful_memes/img/37420.png\n",
      "Processing Non-Hateful: /root/home/data/hateful_memes/img/82509.png\n"
     ]
    },
    {
     "name": "stderr",
     "output_type": "stream",
     "text": [
      " 11%|███████████▎                                                                                             | 27/250 [00:00<00:07, 29.41it/s]"
     ]
    },
    {
     "name": "stdout",
     "output_type": "stream",
     "text": [
      "Processing Non-Hateful: /root/home/data/hateful_memes/img/03214.png\n",
      "Processing Non-Hateful: /root/home/data/hateful_memes/img/76092.png\n",
      "Processing Non-Hateful: /root/home/data/hateful_memes/img/21643.png\n",
      "Processing Non-Hateful: /root/home/data/hateful_memes/img/19523.png\n",
      "Processing Non-Hateful: /root/home/data/hateful_memes/img/53027.png\n",
      "Processing Non-Hateful: /root/home/data/hateful_memes/img/27195.png\n",
      "Processing Non-Hateful: /root/home/data/hateful_memes/img/05213.png\n"
     ]
    },
    {
     "name": "stderr",
     "output_type": "stream",
     "text": [
      " 12%|█████████████                                                                                            | 31/250 [00:01<00:07, 29.48it/s]"
     ]
    },
    {
     "name": "stdout",
     "output_type": "stream",
     "text": [
      "Processing Non-Hateful: /root/home/data/hateful_memes/img/73945.png\n",
      "Processing Non-Hateful: /root/home/data/hateful_memes/img/63175.png\n",
      "Processing Non-Hateful: /root/home/data/hateful_memes/img/82945.png\n"
     ]
    },
    {
     "name": "stderr",
     "output_type": "stream",
     "text": [
      " 14%|██████████████▎                                                                                          | 34/250 [00:01<00:07, 29.54it/s]"
     ]
    },
    {
     "name": "stdout",
     "output_type": "stream",
     "text": [
      "Processing Non-Hateful: /root/home/data/hateful_memes/img/34975.png\n",
      "Processing Non-Hateful: /root/home/data/hateful_memes/img/16420.png\n",
      "Processing Non-Hateful: /root/home/data/hateful_memes/img/56428.png\n"
     ]
    },
    {
     "name": "stderr",
     "output_type": "stream",
     "text": [
      " 15%|███████████████▌                                                                                         | 37/250 [00:01<00:07, 28.84it/s]"
     ]
    },
    {
     "name": "stdout",
     "output_type": "stream",
     "text": [
      "Processing Non-Hateful: /root/home/data/hateful_memes/img/54206.png\n",
      "Processing Non-Hateful: /root/home/data/hateful_memes/img/93172.png\n",
      "Processing Non-Hateful: /root/home/data/hateful_memes/img/56980.png\n"
     ]
    },
    {
     "name": "stderr",
     "output_type": "stream",
     "text": [
      " 16%|████████████████▊                                                                                        | 40/250 [00:01<00:07, 27.55it/s]"
     ]
    },
    {
     "name": "stdout",
     "output_type": "stream",
     "text": [
      "Processing Non-Hateful: /root/home/data/hateful_memes/img/79615.png\n",
      "Processing Non-Hateful: /root/home/data/hateful_memes/img/38047.png\n",
      "Processing Non-Hateful: /root/home/data/hateful_memes/img/96250.png\n"
     ]
    },
    {
     "name": "stderr",
     "output_type": "stream",
     "text": [
      " 17%|██████████████████                                                                                       | 43/250 [00:01<00:07, 27.72it/s]"
     ]
    },
    {
     "name": "stdout",
     "output_type": "stream",
     "text": [
      "Processing Non-Hateful: /root/home/data/hateful_memes/img/28951.png\n",
      "Processing Non-Hateful: /root/home/data/hateful_memes/img/27614.png\n",
      "Processing Non-Hateful: /root/home/data/hateful_memes/img/54893.png\n"
     ]
    },
    {
     "name": "stderr",
     "output_type": "stream",
     "text": [
      " 18%|███████████████████▎                                                                                     | 46/250 [00:01<00:07, 27.43it/s]"
     ]
    },
    {
     "name": "stdout",
     "output_type": "stream",
     "text": [
      "Processing Non-Hateful: /root/home/data/hateful_memes/img/48236.png\n",
      "Processing Non-Hateful: /root/home/data/hateful_memes/img/74908.png\n",
      "Processing Non-Hateful: /root/home/data/hateful_memes/img/89430.png\n"
     ]
    },
    {
     "name": "stderr",
     "output_type": "stream",
     "text": [
      " 20%|████████████████████▌                                                                                    | 49/250 [00:01<00:07, 27.49it/s]"
     ]
    },
    {
     "name": "stdout",
     "output_type": "stream",
     "text": [
      "Processing Non-Hateful: /root/home/data/hateful_memes/img/17950.png\n",
      "Processing Non-Hateful: /root/home/data/hateful_memes/img/76295.png\n",
      "Processing Non-Hateful: /root/home/data/hateful_memes/img/15243.png\n"
     ]
    },
    {
     "name": "stderr",
     "output_type": "stream",
     "text": [
      " 21%|█████████████████████▊                                                                                   | 52/250 [00:01<00:07, 27.92it/s]"
     ]
    },
    {
     "name": "stdout",
     "output_type": "stream",
     "text": [
      "Processing Non-Hateful: /root/home/data/hateful_memes/img/41058.png\n",
      "Processing Non-Hateful: /root/home/data/hateful_memes/img/63507.png\n",
      "Processing Non-Hateful: /root/home/data/hateful_memes/img/34209.png\n"
     ]
    },
    {
     "name": "stderr",
     "output_type": "stream",
     "text": [
      " 22%|███████████████████████                                                                                  | 55/250 [00:01<00:06, 28.40it/s]"
     ]
    },
    {
     "name": "stdout",
     "output_type": "stream",
     "text": [
      "Processing Non-Hateful: /root/home/data/hateful_memes/img/84273.png\n",
      "Processing Non-Hateful: /root/home/data/hateful_memes/img/39018.png\n",
      "Processing Non-Hateful: /root/home/data/hateful_memes/img/29843.png\n"
     ]
    },
    {
     "name": "stderr",
     "output_type": "stream",
     "text": [
      " 23%|████████████████████████▎                                                                                | 58/250 [00:02<00:07, 27.42it/s]"
     ]
    },
    {
     "name": "stdout",
     "output_type": "stream",
     "text": [
      "Processing Non-Hateful: /root/home/data/hateful_memes/img/19385.png\n",
      "Processing Non-Hateful: /root/home/data/hateful_memes/img/64510.png\n",
      "Processing Non-Hateful: /root/home/data/hateful_memes/img/47103.png\n"
     ]
    },
    {
     "name": "stderr",
     "output_type": "stream",
     "text": [
      " 24%|█████████████████████████▌                                                                               | 61/250 [00:02<00:06, 27.67it/s]"
     ]
    },
    {
     "name": "stdout",
     "output_type": "stream",
     "text": [
      "Processing Non-Hateful: /root/home/data/hateful_memes/img/61038.png\n",
      "Processing Non-Hateful: /root/home/data/hateful_memes/img/91602.png\n",
      "Processing Non-Hateful: /root/home/data/hateful_memes/img/30145.png\n"
     ]
    },
    {
     "name": "stderr",
     "output_type": "stream",
     "text": [
      " 26%|███████████████████████████▎                                                                             | 65/250 [00:02<00:06, 28.17it/s]"
     ]
    },
    {
     "name": "stdout",
     "output_type": "stream",
     "text": [
      "Processing Non-Hateful: /root/home/data/hateful_memes/img/59806.png\n",
      "Processing Non-Hateful: /root/home/data/hateful_memes/img/35497.png\n",
      "Processing Non-Hateful: /root/home/data/hateful_memes/img/84362.png\n"
     ]
    },
    {
     "name": "stderr",
     "output_type": "stream",
     "text": [
      " 28%|████████████████████████████▉                                                                            | 69/250 [00:02<00:06, 28.98it/s]"
     ]
    },
    {
     "name": "stdout",
     "output_type": "stream",
     "text": [
      "Processing Non-Hateful: /root/home/data/hateful_memes/img/87251.png\n",
      "Processing Non-Hateful: /root/home/data/hateful_memes/img/35470.png\n",
      "Processing Non-Hateful: /root/home/data/hateful_memes/img/50841.png\n"
     ]
    },
    {
     "name": "stderr",
     "output_type": "stream",
     "text": [
      " 29%|██████████████████████████████▏                                                                          | 72/250 [00:02<00:06, 27.80it/s]"
     ]
    },
    {
     "name": "stdout",
     "output_type": "stream",
     "text": [
      "Processing Non-Hateful: /root/home/data/hateful_memes/img/46087.png\n",
      "Processing Non-Hateful: /root/home/data/hateful_memes/img/42058.png\n",
      "Processing Non-Hateful: /root/home/data/hateful_memes/img/01967.png\n"
     ]
    },
    {
     "name": "stderr",
     "output_type": "stream",
     "text": [
      " 30%|███████████████████████████████▌                                                                         | 75/250 [00:02<00:06, 27.00it/s]"
     ]
    },
    {
     "name": "stdout",
     "output_type": "stream",
     "text": [
      "Processing Non-Hateful: /root/home/data/hateful_memes/img/21075.png\n",
      "Processing Non-Hateful: /root/home/data/hateful_memes/img/32579.png\n",
      "Processing Non-Hateful: /root/home/data/hateful_memes/img/53172.png\n"
     ]
    },
    {
     "name": "stderr",
     "output_type": "stream",
     "text": [
      " 31%|████████████████████████████████▊                                                                        | 78/250 [00:02<00:06, 26.38it/s]"
     ]
    },
    {
     "name": "stdout",
     "output_type": "stream",
     "text": [
      "Processing Non-Hateful: /root/home/data/hateful_memes/img/01742.png\n",
      "Processing Non-Hateful: /root/home/data/hateful_memes/img/78612.png\n",
      "Processing Non-Hateful: /root/home/data/hateful_memes/img/53609.png\n",
      "Processing Non-Hateful: /root/home/data/hateful_memes/img/61503.png\n",
      "Processing Non-Hateful: /root/home/data/hateful_memes/img/35719.png\n"
     ]
    },
    {
     "name": "stderr",
     "output_type": "stream",
     "text": [
      " 34%|███████████████████████████████████▎                                                                     | 84/250 [00:03<00:06, 26.57it/s]"
     ]
    },
    {
     "name": "stdout",
     "output_type": "stream",
     "text": [
      "Processing Non-Hateful: /root/home/data/hateful_memes/img/20984.png\n",
      "Processing Non-Hateful: /root/home/data/hateful_memes/img/49028.png\n",
      "Processing Non-Hateful: /root/home/data/hateful_memes/img/18356.png\n",
      "Processing Non-Hateful: /root/home/data/hateful_memes/img/52634.png\n",
      "Processing Non-Hateful: /root/home/data/hateful_memes/img/62703.png\n",
      "Processing Non-Hateful: /root/home/data/hateful_memes/img/95176.png\n"
     ]
    },
    {
     "name": "stderr",
     "output_type": "stream",
     "text": [
      " 36%|█████████████████████████████████████▊                                                                   | 90/250 [00:03<00:05, 26.89it/s]"
     ]
    },
    {
     "name": "stdout",
     "output_type": "stream",
     "text": [
      "Processing Non-Hateful: /root/home/data/hateful_memes/img/27384.png\n",
      "Processing Non-Hateful: /root/home/data/hateful_memes/img/09152.png\n",
      "Processing Non-Hateful: /root/home/data/hateful_memes/img/46812.png\n",
      "Processing Non-Hateful: /root/home/data/hateful_memes/img/69512.png\n",
      "Processing Non-Hateful: /root/home/data/hateful_memes/img/54129.png\n",
      "Processing Non-Hateful: /root/home/data/hateful_memes/img/91468.png\n"
     ]
    },
    {
     "name": "stderr",
     "output_type": "stream",
     "text": [
      " 37%|███████████████████████████████████████                                                                  | 93/250 [00:03<00:05, 26.72it/s]"
     ]
    },
    {
     "name": "stdout",
     "output_type": "stream",
     "text": [
      "Processing Non-Hateful: /root/home/data/hateful_memes/img/52104.png\n",
      "Processing Non-Hateful: /root/home/data/hateful_memes/img/52031.png\n",
      "Processing Non-Hateful: /root/home/data/hateful_memes/img/08795.png\n",
      "Processing Non-Hateful: /root/home/data/hateful_memes/img/49621.png\n"
     ]
    },
    {
     "name": "stderr",
     "output_type": "stream",
     "text": [
      " 39%|████████████████████████████████████████▋                                                                | 97/250 [00:03<00:05, 28.10it/s]"
     ]
    },
    {
     "name": "stdout",
     "output_type": "stream",
     "text": [
      "Processing Non-Hateful: /root/home/data/hateful_memes/img/98547.png\n",
      "Processing Non-Hateful: /root/home/data/hateful_memes/img/43698.png\n"
     ]
    },
    {
     "name": "stderr",
     "output_type": "stream",
     "text": [
      " 40%|█████████████████████████████████████████▌                                                              | 100/250 [00:03<00:05, 27.73it/s]"
     ]
    },
    {
     "name": "stdout",
     "output_type": "stream",
     "text": [
      "Processing Non-Hateful: /root/home/data/hateful_memes/img/93051.png\n",
      "Processing Non-Hateful: /root/home/data/hateful_memes/img/68257.png\n",
      "Processing Non-Hateful: /root/home/data/hateful_memes/img/57208.png\n",
      "Processing Non-Hateful: /root/home/data/hateful_memes/img/26439.png\n"
     ]
    },
    {
     "name": "stderr",
     "output_type": "stream",
     "text": [
      " 41%|██████████████████████████████████████████▊                                                             | 103/250 [00:03<00:05, 28.17it/s]"
     ]
    },
    {
     "name": "stdout",
     "output_type": "stream",
     "text": [
      "Processing Non-Hateful: /root/home/data/hateful_memes/img/53769.png\n",
      "Processing Non-Hateful: /root/home/data/hateful_memes/img/28406.png\n"
     ]
    },
    {
     "name": "stderr",
     "output_type": "stream",
     "text": [
      " 43%|████████████████████████████████████████████▌                                                           | 107/250 [00:03<00:05, 28.14it/s]"
     ]
    },
    {
     "name": "stdout",
     "output_type": "stream",
     "text": [
      "Processing Non-Hateful: /root/home/data/hateful_memes/img/53418.png\n",
      "Processing Non-Hateful: /root/home/data/hateful_memes/img/84302.png\n",
      "Processing Non-Hateful: /root/home/data/hateful_memes/img/76015.png\n",
      "Processing Non-Hateful: /root/home/data/hateful_memes/img/34189.png\n"
     ]
    },
    {
     "name": "stderr",
     "output_type": "stream",
     "text": [
      " 44%|█████████████████████████████████████████████▊                                                          | 110/250 [00:03<00:05, 27.50it/s]"
     ]
    },
    {
     "name": "stdout",
     "output_type": "stream",
     "text": [
      "Processing Non-Hateful: /root/home/data/hateful_memes/img/52079.png\n",
      "Processing Non-Hateful: /root/home/data/hateful_memes/img/63987.png\n"
     ]
    },
    {
     "name": "stderr",
     "output_type": "stream",
     "text": [
      " 45%|███████████████████████████████████████████████                                                         | 113/250 [00:04<00:05, 27.39it/s]"
     ]
    },
    {
     "name": "stdout",
     "output_type": "stream",
     "text": [
      "Processing Non-Hateful: /root/home/data/hateful_memes/img/73526.png\n",
      "Processing Non-Hateful: /root/home/data/hateful_memes/img/02145.png\n",
      "Processing Non-Hateful: /root/home/data/hateful_memes/img/84102.png\n",
      "Processing Non-Hateful: /root/home/data/hateful_memes/img/32981.png\n",
      "Processing Non-Hateful: /root/home/data/hateful_memes/img/73605.png\n",
      "Processing Non-Hateful: /root/home/data/hateful_memes/img/64071.png\n"
     ]
    },
    {
     "name": "stderr",
     "output_type": "stream",
     "text": [
      " 47%|████████████████████████████████████████████████▋                                                       | 117/250 [00:04<00:04, 28.19it/s]"
     ]
    },
    {
     "name": "stdout",
     "output_type": "stream",
     "text": [
      "Processing Non-Hateful: /root/home/data/hateful_memes/img/80912.png\n",
      "Processing Non-Hateful: /root/home/data/hateful_memes/img/39076.png\n",
      "Processing Non-Hateful: /root/home/data/hateful_memes/img/38095.png\n",
      "Processing Non-Hateful: /root/home/data/hateful_memes/img/52394.png\n"
     ]
    },
    {
     "name": "stderr",
     "output_type": "stream",
     "text": [
      " 48%|██████████████████████████████████████████████████▎                                                     | 121/250 [00:04<00:04, 28.96it/s]"
     ]
    },
    {
     "name": "stdout",
     "output_type": "stream",
     "text": [
      "Processing Non-Hateful: /root/home/data/hateful_memes/img/14865.png\n",
      "Processing Non-Hateful: /root/home/data/hateful_memes/img/54819.png\n"
     ]
    },
    {
     "name": "stderr",
     "output_type": "stream",
     "text": [
      " 50%|███████████████████████████████████████████████████▌                                                    | 124/250 [00:04<00:04, 27.73it/s]"
     ]
    },
    {
     "name": "stdout",
     "output_type": "stream",
     "text": [
      "Processing Non-Hateful: /root/home/data/hateful_memes/img/46082.png\n",
      "Processing Non-Hateful: /root/home/data/hateful_memes/img/78462.png\n",
      "Processing Non-Hateful: /root/home/data/hateful_memes/img/49805.png\n",
      "Processing Non-Hateful: /root/home/data/hateful_memes/img/60893.png\n"
     ]
    },
    {
     "name": "stderr",
     "output_type": "stream",
     "text": [
      " 51%|████████████████████████████████████████████████████▊                                                   | 127/250 [00:04<00:04, 27.29it/s]"
     ]
    },
    {
     "name": "stdout",
     "output_type": "stream",
     "text": [
      "Processing Non-Hateful: /root/home/data/hateful_memes/img/93148.png\n",
      "Processing Non-Hateful: /root/home/data/hateful_memes/img/07351.png\n"
     ]
    },
    {
     "name": "stderr",
     "output_type": "stream",
     "text": [
      " 52%|██████████████████████████████████████████████████████                                                  | 130/250 [00:04<00:04, 27.09it/s]"
     ]
    },
    {
     "name": "stdout",
     "output_type": "stream",
     "text": [
      "Processing Non-Hateful: /root/home/data/hateful_memes/img/16850.png\n",
      "Processing Non-Hateful: /root/home/data/hateful_memes/img/96312.png\n",
      "Processing Non-Hateful: /root/home/data/hateful_memes/img/86195.png\n",
      "Processing Non-Hateful: /root/home/data/hateful_memes/img/84162.png\n"
     ]
    },
    {
     "name": "stderr",
     "output_type": "stream",
     "text": [
      " 53%|███████████████████████████████████████████████████████▎                                                | 133/250 [00:04<00:04, 27.50it/s]"
     ]
    },
    {
     "name": "stdout",
     "output_type": "stream",
     "text": [
      "Processing Non-Hateful: /root/home/data/hateful_memes/img/12067.png\n",
      "Processing Non-Hateful: /root/home/data/hateful_memes/img/43092.png\n"
     ]
    },
    {
     "name": "stderr",
     "output_type": "stream",
     "text": [
      " 54%|████████████████████████████████████████████████████████▌                                               | 136/250 [00:04<00:04, 26.70it/s]"
     ]
    },
    {
     "name": "stdout",
     "output_type": "stream",
     "text": [
      "Processing Non-Hateful: /root/home/data/hateful_memes/img/12045.png\n",
      "Processing Non-Hateful: /root/home/data/hateful_memes/img/92068.png\n",
      "Processing Non-Hateful: /root/home/data/hateful_memes/img/73021.png\n",
      "Processing Non-Hateful: /root/home/data/hateful_memes/img/13750.png\n"
     ]
    },
    {
     "name": "stderr",
     "output_type": "stream",
     "text": [
      " 56%|█████████████████████████████████████████████████████████▊                                              | 139/250 [00:05<00:04, 25.73it/s]"
     ]
    },
    {
     "name": "stdout",
     "output_type": "stream",
     "text": [
      "Processing Non-Hateful: /root/home/data/hateful_memes/img/75142.png\n"
     ]
    },
    {
     "name": "stderr",
     "output_type": "stream",
     "text": [
      " 57%|███████████████████████████████████████████████████████████                                             | 142/250 [00:05<00:04, 25.98it/s]"
     ]
    },
    {
     "name": "stdout",
     "output_type": "stream",
     "text": [
      "Processing Non-Hateful: /root/home/data/hateful_memes/img/56149.png\n",
      "Processing Non-Hateful: /root/home/data/hateful_memes/img/41796.png\n",
      "Processing Non-Hateful: /root/home/data/hateful_memes/img/23785.png\n",
      "Processing Non-Hateful: /root/home/data/hateful_memes/img/56473.png\n",
      "Processing Non-Hateful: /root/home/data/hateful_memes/img/62970.png\n"
     ]
    },
    {
     "name": "stderr",
     "output_type": "stream",
     "text": [
      " 58%|████████████████████████████████████████████████████████████▎                                           | 145/250 [00:05<00:04, 26.14it/s]"
     ]
    },
    {
     "name": "stdout",
     "output_type": "stream",
     "text": [
      "Processing Non-Hateful: /root/home/data/hateful_memes/img/41035.png\n"
     ]
    },
    {
     "name": "stderr",
     "output_type": "stream",
     "text": [
      " 59%|█████████████████████████████████████████████████████████████▌                                          | 148/250 [00:05<00:03, 26.40it/s]"
     ]
    },
    {
     "name": "stdout",
     "output_type": "stream",
     "text": [
      "Processing Non-Hateful: /root/home/data/hateful_memes/img/68401.png\n",
      "Processing Non-Hateful: /root/home/data/hateful_memes/img/50984.png\n",
      "Processing Non-Hateful: /root/home/data/hateful_memes/img/17908.png\n",
      "Processing Non-Hateful: /root/home/data/hateful_memes/img/65093.png\n",
      "Processing Non-Hateful: /root/home/data/hateful_memes/img/86357.png\n"
     ]
    },
    {
     "name": "stderr",
     "output_type": "stream",
     "text": [
      " 60%|██████████████████████████████████████████████████████████████▊                                         | 151/250 [00:05<00:03, 26.52it/s]"
     ]
    },
    {
     "name": "stdout",
     "output_type": "stream",
     "text": [
      "Processing Non-Hateful: /root/home/data/hateful_memes/img/74965.png\n"
     ]
    },
    {
     "name": "stderr",
     "output_type": "stream",
     "text": [
      " 62%|████████████████████████████████████████████████████████████████                                        | 154/250 [00:05<00:03, 26.52it/s]"
     ]
    },
    {
     "name": "stdout",
     "output_type": "stream",
     "text": [
      "Processing Non-Hateful: /root/home/data/hateful_memes/img/75918.png\n",
      "Processing Non-Hateful: /root/home/data/hateful_memes/img/14975.png\n",
      "Processing Non-Hateful: /root/home/data/hateful_memes/img/92317.png\n",
      "Processing Non-Hateful: /root/home/data/hateful_memes/img/90236.png\n",
      "Processing Non-Hateful: /root/home/data/hateful_memes/img/30642.png\n"
     ]
    },
    {
     "name": "stderr",
     "output_type": "stream",
     "text": [
      " 63%|█████████████████████████████████████████████████████████████████▎                                      | 157/250 [00:05<00:03, 26.99it/s]"
     ]
    },
    {
     "name": "stdout",
     "output_type": "stream",
     "text": [
      "Processing Non-Hateful: /root/home/data/hateful_memes/img/59206.png\n"
     ]
    },
    {
     "name": "stderr",
     "output_type": "stream",
     "text": [
      " 64%|██████████████████████████████████████████████████████████████████▌                                     | 160/250 [00:05<00:03, 26.96it/s]"
     ]
    },
    {
     "name": "stdout",
     "output_type": "stream",
     "text": [
      "Processing Non-Hateful: /root/home/data/hateful_memes/img/19075.png\n",
      "Processing Non-Hateful: /root/home/data/hateful_memes/img/79042.png\n",
      "Processing Non-Hateful: /root/home/data/hateful_memes/img/98720.png\n",
      "Processing Non-Hateful: /root/home/data/hateful_memes/img/84107.png\n",
      "Processing Non-Hateful: /root/home/data/hateful_memes/img/46085.png\n"
     ]
    },
    {
     "name": "stderr",
     "output_type": "stream",
     "text": [
      " 65%|███████████████████████████████████████████████████████████████████▊                                    | 163/250 [00:05<00:03, 26.73it/s]"
     ]
    },
    {
     "name": "stdout",
     "output_type": "stream",
     "text": [
      "Processing Non-Hateful: /root/home/data/hateful_memes/img/08451.png\n"
     ]
    },
    {
     "name": "stderr",
     "output_type": "stream",
     "text": [
      " 66%|█████████████████████████████████████████████████████████████████████                                   | 166/250 [00:06<00:03, 26.45it/s]"
     ]
    },
    {
     "name": "stdout",
     "output_type": "stream",
     "text": [
      "Processing Non-Hateful: /root/home/data/hateful_memes/img/73482.png\n",
      "Processing Non-Hateful: /root/home/data/hateful_memes/img/02364.png\n",
      "Processing Non-Hateful: /root/home/data/hateful_memes/img/42538.png\n",
      "Processing Non-Hateful: /root/home/data/hateful_memes/img/47183.png\n",
      "Processing Non-Hateful: /root/home/data/hateful_memes/img/41382.png\n"
     ]
    },
    {
     "name": "stderr",
     "output_type": "stream",
     "text": [
      " 68%|██████████████████████████████████████████████████████████████████████▎                                 | 169/250 [00:06<00:02, 27.29it/s]"
     ]
    },
    {
     "name": "stdout",
     "output_type": "stream",
     "text": [
      "Processing Non-Hateful: /root/home/data/hateful_memes/img/78156.png\n"
     ]
    },
    {
     "name": "stderr",
     "output_type": "stream",
     "text": [
      " 69%|███████████████████████████████████████████████████████████████████████▌                                | 172/250 [00:06<00:02, 27.06it/s]"
     ]
    },
    {
     "name": "stdout",
     "output_type": "stream",
     "text": [
      "Processing Non-Hateful: /root/home/data/hateful_memes/img/74250.png\n",
      "Processing Non-Hateful: /root/home/data/hateful_memes/img/97132.png\n",
      "Processing Non-Hateful: /root/home/data/hateful_memes/img/78134.png\n",
      "Processing Non-Hateful: /root/home/data/hateful_memes/img/57369.png\n",
      "Processing Non-Hateful: /root/home/data/hateful_memes/img/36058.png\n"
     ]
    },
    {
     "name": "stderr",
     "output_type": "stream",
     "text": [
      " 70%|████████████████████████████████████████████████████████████████████████▊                               | 175/250 [00:06<00:02, 26.31it/s]"
     ]
    },
    {
     "name": "stdout",
     "output_type": "stream",
     "text": [
      "Processing Non-Hateful: /root/home/data/hateful_memes/img/18726.png\n"
     ]
    },
    {
     "name": "stderr",
     "output_type": "stream",
     "text": [
      " 71%|██████████████████████████████████████████████████████████████████████████                              | 178/250 [00:06<00:02, 26.33it/s]"
     ]
    },
    {
     "name": "stdout",
     "output_type": "stream",
     "text": [
      "Processing Non-Hateful: /root/home/data/hateful_memes/img/50379.png\n",
      "Processing Non-Hateful: /root/home/data/hateful_memes/img/06352.png\n",
      "Processing Non-Hateful: /root/home/data/hateful_memes/img/58093.png\n",
      "Processing Non-Hateful: /root/home/data/hateful_memes/img/41728.png\n",
      "Processing Non-Hateful: /root/home/data/hateful_memes/img/51306.png\n"
     ]
    },
    {
     "name": "stderr",
     "output_type": "stream",
     "text": [
      " 72%|███████████████████████████████████████████████████████████████████████████▎                            | 181/250 [00:06<00:02, 26.41it/s]"
     ]
    },
    {
     "name": "stdout",
     "output_type": "stream",
     "text": [
      "Processing Non-Hateful: /root/home/data/hateful_memes/img/17045.png\n"
     ]
    },
    {
     "name": "stderr",
     "output_type": "stream",
     "text": [
      " 74%|████████████████████████████████████████████████████████████████████████████▉                           | 185/250 [00:06<00:02, 27.26it/s]"
     ]
    },
    {
     "name": "stdout",
     "output_type": "stream",
     "text": [
      "Processing Non-Hateful: /root/home/data/hateful_memes/img/89536.png\n",
      "Processing Non-Hateful: /root/home/data/hateful_memes/img/59170.png\n",
      "Processing Non-Hateful: /root/home/data/hateful_memes/img/30927.png\n",
      "Processing Non-Hateful: /root/home/data/hateful_memes/img/32049.png\n",
      "Processing Non-Hateful: /root/home/data/hateful_memes/img/95173.png\n",
      "Processing Non-Hateful: /root/home/data/hateful_memes/img/50198.png\n"
     ]
    },
    {
     "name": "stderr",
     "output_type": "stream",
     "text": [
      " 77%|███████████████████████████████████████████████████████████████████████████████▊                        | 192/250 [00:07<00:02, 28.48it/s]"
     ]
    },
    {
     "name": "stdout",
     "output_type": "stream",
     "text": [
      "Processing Non-Hateful: /root/home/data/hateful_memes/img/02518.png\n",
      "Processing Non-Hateful: /root/home/data/hateful_memes/img/04621.png\n",
      "Processing Non-Hateful: /root/home/data/hateful_memes/img/85621.png\n",
      "Processing Non-Hateful: /root/home/data/hateful_memes/img/18367.png\n",
      "Processing Non-Hateful: /root/home/data/hateful_memes/img/84036.png\n",
      "Processing Non-Hateful: /root/home/data/hateful_memes/img/92567.png\n"
     ]
    },
    {
     "name": "stderr",
     "output_type": "stream",
     "text": [
      " 78%|█████████████████████████████████████████████████████████████████████████████████                       | 195/250 [00:07<00:02, 27.01it/s]"
     ]
    },
    {
     "name": "stdout",
     "output_type": "stream",
     "text": [
      "Processing Non-Hateful: /root/home/data/hateful_memes/img/63921.png\n",
      "Processing Non-Hateful: /root/home/data/hateful_memes/img/30586.png\n",
      "Processing Non-Hateful: /root/home/data/hateful_memes/img/93041.png\n",
      "Processing Non-Hateful: /root/home/data/hateful_memes/img/03568.png\n"
     ]
    },
    {
     "name": "stderr",
     "output_type": "stream",
     "text": [
      " 79%|██████████████████████████████████████████████████████████████████████████████████▎                     | 198/250 [00:07<00:01, 26.12it/s]"
     ]
    },
    {
     "name": "stdout",
     "output_type": "stream",
     "text": [
      "Processing Non-Hateful: /root/home/data/hateful_memes/img/26397.png\n"
     ]
    },
    {
     "name": "stderr",
     "output_type": "stream",
     "text": [
      " 80%|███████████████████████████████████████████████████████████████████████████████████▌                    | 201/250 [00:07<00:01, 26.60it/s]"
     ]
    },
    {
     "name": "stdout",
     "output_type": "stream",
     "text": [
      "Processing Non-Hateful: /root/home/data/hateful_memes/img/03217.png\n",
      "Processing Non-Hateful: /root/home/data/hateful_memes/img/40618.png\n",
      "Processing Non-Hateful: /root/home/data/hateful_memes/img/67208.png\n",
      "Processing Non-Hateful: /root/home/data/hateful_memes/img/03798.png\n",
      "Processing Non-Hateful: /root/home/data/hateful_memes/img/12468.png\n"
     ]
    },
    {
     "name": "stderr",
     "output_type": "stream",
     "text": [
      " 82%|████████████████████████████████████████████████████████████████████████████████████▊                   | 204/250 [00:07<00:01, 25.81it/s]"
     ]
    },
    {
     "name": "stdout",
     "output_type": "stream",
     "text": [
      "Processing Non-Hateful: /root/home/data/hateful_memes/img/16842.png\n"
     ]
    },
    {
     "name": "stderr",
     "output_type": "stream",
     "text": [
      " 83%|██████████████████████████████████████████████████████████████████████████████████████                  | 207/250 [00:07<00:01, 26.45it/s]"
     ]
    },
    {
     "name": "stdout",
     "output_type": "stream",
     "text": [
      "Processing Non-Hateful: /root/home/data/hateful_memes/img/51807.png\n",
      "Processing Non-Hateful: /root/home/data/hateful_memes/img/78914.png\n",
      "Processing Non-Hateful: /root/home/data/hateful_memes/img/47950.png\n",
      "Processing Non-Hateful: /root/home/data/hateful_memes/img/95487.png\n",
      "Processing Non-Hateful: /root/home/data/hateful_memes/img/49260.png\n"
     ]
    },
    {
     "name": "stderr",
     "output_type": "stream",
     "text": [
      " 84%|███████████████████████████████████████████████████████████████████████████████████████▎                | 210/250 [00:07<00:01, 26.51it/s]"
     ]
    },
    {
     "name": "stdout",
     "output_type": "stream",
     "text": [
      "Processing Non-Hateful: /root/home/data/hateful_memes/img/38914.png\n"
     ]
    },
    {
     "name": "stderr",
     "output_type": "stream",
     "text": [
      " 85%|████████████████████████████████████████████████████████████████████████████████████████▌               | 213/250 [00:07<00:01, 26.32it/s]"
     ]
    },
    {
     "name": "stdout",
     "output_type": "stream",
     "text": [
      "Processing Non-Hateful: /root/home/data/hateful_memes/img/35487.png\n",
      "Processing Non-Hateful: /root/home/data/hateful_memes/img/84150.png\n",
      "Processing Non-Hateful: /root/home/data/hateful_memes/img/90643.png\n",
      "Processing Non-Hateful: /root/home/data/hateful_memes/img/16749.png\n",
      "Processing Non-Hateful: /root/home/data/hateful_memes/img/37814.png\n"
     ]
    },
    {
     "name": "stderr",
     "output_type": "stream",
     "text": [
      " 86%|█████████████████████████████████████████████████████████████████████████████████████████▊              | 216/250 [00:07<00:01, 27.14it/s]"
     ]
    },
    {
     "name": "stdout",
     "output_type": "stream",
     "text": [
      "Processing Non-Hateful: /root/home/data/hateful_memes/img/92046.png\n"
     ]
    },
    {
     "name": "stderr",
     "output_type": "stream",
     "text": [
      " 88%|███████████████████████████████████████████████████████████████████████████████████████████             | 219/250 [00:08<00:01, 26.11it/s]"
     ]
    },
    {
     "name": "stdout",
     "output_type": "stream",
     "text": [
      "Processing Non-Hateful: /root/home/data/hateful_memes/img/90843.png\n",
      "Processing Non-Hateful: /root/home/data/hateful_memes/img/85237.png\n",
      "Processing Non-Hateful: /root/home/data/hateful_memes/img/98235.png\n",
      "Processing Non-Hateful: /root/home/data/hateful_memes/img/90267.png\n",
      "Processing Non-Hateful: /root/home/data/hateful_memes/img/29174.png\n"
     ]
    },
    {
     "name": "stderr",
     "output_type": "stream",
     "text": [
      " 89%|████████████████████████████████████████████████████████████████████████████████████████████▎           | 222/250 [00:08<00:01, 26.11it/s]"
     ]
    },
    {
     "name": "stdout",
     "output_type": "stream",
     "text": [
      "Processing Non-Hateful: /root/home/data/hateful_memes/img/65801.png\n"
     ]
    },
    {
     "name": "stderr",
     "output_type": "stream",
     "text": [
      " 90%|█████████████████████████████████████████████████████████████████████████████████████████████▌          | 225/250 [00:08<00:00, 25.72it/s]"
     ]
    },
    {
     "name": "stdout",
     "output_type": "stream",
     "text": [
      "Processing Non-Hateful: /root/home/data/hateful_memes/img/94387.png\n",
      "Processing Non-Hateful: /root/home/data/hateful_memes/img/94738.png\n",
      "Processing Non-Hateful: /root/home/data/hateful_memes/img/57823.png\n",
      "Processing Non-Hateful: /root/home/data/hateful_memes/img/32415.png\n",
      "Processing Non-Hateful: /root/home/data/hateful_memes/img/05316.png\n"
     ]
    },
    {
     "name": "stderr",
     "output_type": "stream",
     "text": [
      " 91%|██████████████████████████████████████████████████████████████████████████████████████████████▊         | 228/250 [00:08<00:00, 25.63it/s]"
     ]
    },
    {
     "name": "stdout",
     "output_type": "stream",
     "text": [
      "Processing Non-Hateful: /root/home/data/hateful_memes/img/61085.png\n"
     ]
    },
    {
     "name": "stderr",
     "output_type": "stream",
     "text": [
      " 92%|████████████████████████████████████████████████████████████████████████████████████████████████        | 231/250 [00:08<00:00, 25.36it/s]"
     ]
    },
    {
     "name": "stdout",
     "output_type": "stream",
     "text": [
      "Processing Non-Hateful: /root/home/data/hateful_memes/img/37160.png\n",
      "Processing Non-Hateful: /root/home/data/hateful_memes/img/18742.png\n",
      "Processing Non-Hateful: /root/home/data/hateful_memes/img/19243.png\n",
      "Processing Non-Hateful: /root/home/data/hateful_memes/img/78659.png\n",
      "Processing Non-Hateful: /root/home/data/hateful_memes/img/67082.png\n"
     ]
    },
    {
     "name": "stderr",
     "output_type": "stream",
     "text": [
      " 94%|█████████████████████████████████████████████████████████████████████████████████████████████████▎      | 234/250 [00:08<00:00, 25.99it/s]"
     ]
    },
    {
     "name": "stdout",
     "output_type": "stream",
     "text": [
      "Processing Non-Hateful: /root/home/data/hateful_memes/img/64125.png\n"
     ]
    },
    {
     "name": "stderr",
     "output_type": "stream",
     "text": [
      " 95%|██████████████████████████████████████████████████████████████████████████████████████████████████▌     | 237/250 [00:08<00:00, 26.07it/s]"
     ]
    },
    {
     "name": "stdout",
     "output_type": "stream",
     "text": [
      "Processing Non-Hateful: /root/home/data/hateful_memes/img/41296.png\n",
      "Processing Non-Hateful: /root/home/data/hateful_memes/img/53491.png\n",
      "Processing Non-Hateful: /root/home/data/hateful_memes/img/37692.png\n",
      "Processing Non-Hateful: /root/home/data/hateful_memes/img/36201.png\n",
      "Processing Non-Hateful: /root/home/data/hateful_memes/img/20437.png\n"
     ]
    },
    {
     "name": "stderr",
     "output_type": "stream",
     "text": [
      " 96%|███████████████████████████████████████████████████████████████████████████████████████████████████▊    | 240/250 [00:08<00:00, 26.12it/s]"
     ]
    },
    {
     "name": "stdout",
     "output_type": "stream",
     "text": [
      "Processing Non-Hateful: /root/home/data/hateful_memes/img/05439.png\n"
     ]
    },
    {
     "name": "stderr",
     "output_type": "stream",
     "text": [
      " 97%|█████████████████████████████████████████████████████████████████████████████████████████████████████   | 243/250 [00:08<00:00, 26.91it/s]"
     ]
    },
    {
     "name": "stdout",
     "output_type": "stream",
     "text": [
      "Processing Non-Hateful: /root/home/data/hateful_memes/img/93541.png\n",
      "Processing Non-Hateful: /root/home/data/hateful_memes/img/16704.png\n",
      "Processing Non-Hateful: /root/home/data/hateful_memes/img/48792.png\n",
      "Processing Non-Hateful: /root/home/data/hateful_memes/img/01268.png\n",
      "Processing Non-Hateful: /root/home/data/hateful_memes/img/83675.png\n"
     ]
    },
    {
     "name": "stderr",
     "output_type": "stream",
     "text": [
      " 98%|██████████████████████████████████████████████████████████████████████████████████████████████████████▎ | 246/250 [00:09<00:00, 27.57it/s]"
     ]
    },
    {
     "name": "stdout",
     "output_type": "stream",
     "text": [
      "Processing Non-Hateful: /root/home/data/hateful_memes/img/37198.png\n"
     ]
    },
    {
     "name": "stderr",
     "output_type": "stream",
     "text": [
      "100%|████████████████████████████████████████████████████████████████████████████████████████████████████████| 250/250 [00:09<00:00, 27.13it/s]"
     ]
    },
    {
     "name": "stdout",
     "output_type": "stream",
     "text": [
      "Processing Non-Hateful: /root/home/data/hateful_memes/img/48670.png\n",
      "Processing Non-Hateful: /root/home/data/hateful_memes/img/09863.png\n",
      "Processing Non-Hateful: /root/home/data/hateful_memes/img/97320.png\n"
     ]
    },
    {
     "name": "stderr",
     "output_type": "stream",
     "text": [
      "\n"
     ]
    }
   ],
   "source": [
    "hateful_embeddings = {}\n",
    "nonhateful_embeddings = {}\n",
    "for image in tqdm(hateful_images) :\n",
    "    img_file = os.path.join(base_path, image)\n",
    "    print(f\"Processing Hateful: {img_file}\")\n",
    "    img = Image.open(img_file)\n",
    "    inputs = processor(images=img, return_tensors=\"pt\").to(device)\n",
    "    with torch.no_grad():\n",
    "        image_features = model.get_image_features(**inputs)\n",
    "    # Move embeddings to CPU\n",
    "    hateful_embeddings[image]=image_features.cpu()\n",
    "    del inputs\n",
    "\n",
    "for image in tqdm(nonhateful_images) :\n",
    "    img_file = os.path.join(base_path, image)\n",
    "    print(f\"Processing Non-Hateful: {img_file}\")\n",
    "    img = Image.open(img_file) \n",
    "    inputs = processor(images=img, return_tensors=\"pt\").to(device)\n",
    "    with torch.no_grad():\n",
    "        image_features = model.get_image_features(**inputs)\n",
    "    nonhateful_embeddings[image]=image_features.cpu()\n",
    "    del inputs"
   ]
  },
  {
   "cell_type": "code",
   "execution_count": 36,
   "id": "874031a5-463a-4aa3-88e4-77de371c6c23",
   "metadata": {},
   "outputs": [
    {
     "name": "stdout",
     "output_type": "stream",
     "text": [
      "Image: img/08291.png, Label: 1\n",
      "------------------------------------------------------\n",
      "01247.png\n",
      "Image: img/46971.png, Label: 1\n",
      "------------------------------------------------------\n",
      "01247.png\n",
      "Image: img/03745.png, Label: 1\n",
      "------------------------------------------------------\n",
      "01247.png\n",
      "Image: img/83745.png, Label: 1\n",
      "------------------------------------------------------\n",
      "01247.png\n",
      "Image: img/80243.png, Label: 1\n",
      "------------------------------------------------------\n",
      "01247.png\n",
      "Image: img/05279.png, Label: 1\n",
      "------------------------------------------------------\n",
      "01247.png\n",
      "Image: img/01796.png, Label: 1\n",
      "------------------------------------------------------\n",
      "01247.png\n",
      "Image: img/53046.png, Label: 1\n",
      "------------------------------------------------------\n",
      "01247.png\n",
      "Image: img/82301.png, Label: 1\n",
      "------------------------------------------------------\n",
      "01247.png\n",
      "Image: img/31752.png, Label: 1\n",
      "------------------------------------------------------\n",
      "01247.png\n",
      "Image: img/27635.png, Label: 1\n",
      "------------------------------------------------------\n",
      "01247.png\n",
      "Image: img/80597.png, Label: 1\n",
      "------------------------------------------------------\n",
      "01247.png\n",
      "Image: img/45368.png, Label: 1\n",
      "------------------------------------------------------\n",
      "01247.png\n",
      "Image: img/17963.png, Label: 1\n",
      "------------------------------------------------------\n",
      "01247.png\n",
      "Image: img/53968.png, Label: 1\n",
      "------------------------------------------------------\n",
      "01247.png\n",
      "Image: img/10749.png, Label: 1\n",
      "------------------------------------------------------\n",
      "01247.png\n",
      "Image: img/25149.png, Label: 1\n",
      "------------------------------------------------------\n",
      "01247.png\n",
      "Image: img/87520.png, Label: 1\n",
      "------------------------------------------------------\n",
      "01247.png\n",
      "Image: img/89071.png, Label: 1\n",
      "------------------------------------------------------\n",
      "01247.png\n",
      "Image: img/09563.png, Label: 1\n",
      "------------------------------------------------------\n",
      "01247.png\n",
      "Image: img/72048.png, Label: 1\n",
      "------------------------------------------------------\n",
      "01247.png\n",
      "Image: img/49826.png, Label: 1\n",
      "------------------------------------------------------\n",
      "01247.png\n",
      "Image: img/26453.png, Label: 1\n",
      "------------------------------------------------------\n",
      "01247.png\n",
      "Image: img/12650.png, Label: 1\n",
      "------------------------------------------------------\n",
      "01247.png\n",
      "Image: img/02568.png, Label: 1\n",
      "------------------------------------------------------\n",
      "01247.png\n",
      "Image: img/83954.png, Label: 1\n",
      "------------------------------------------------------\n",
      "01247.png\n",
      "Image: img/24316.png, Label: 1\n",
      "------------------------------------------------------\n",
      "01247.png\n",
      "Image: img/62035.png, Label: 1\n",
      "------------------------------------------------------\n",
      "01247.png\n",
      "Image: img/65342.png, Label: 1\n",
      "------------------------------------------------------\n",
      "01247.png\n",
      "Image: img/92058.png, Label: 1\n",
      "------------------------------------------------------\n",
      "01247.png\n",
      "Image: img/58672.png, Label: 1\n",
      "------------------------------------------------------\n",
      "01247.png\n",
      "Image: img/54069.png, Label: 1\n",
      "------------------------------------------------------\n",
      "01247.png\n",
      "Image: img/91586.png, Label: 1\n",
      "------------------------------------------------------\n",
      "01247.png\n",
      "Image: img/87130.png, Label: 1\n",
      "------------------------------------------------------\n",
      "01247.png\n",
      "Image: img/95640.png, Label: 1\n",
      "------------------------------------------------------\n",
      "01247.png\n",
      "Image: img/47819.png, Label: 1\n",
      "------------------------------------------------------\n",
      "01247.png\n",
      "Image: img/59140.png, Label: 1\n",
      "------------------------------------------------------\n",
      "01247.png\n",
      "Image: img/13647.png, Label: 1\n",
      "------------------------------------------------------\n",
      "01247.png\n",
      "Image: img/65832.png, Label: 1\n",
      "------------------------------------------------------\n",
      "01247.png\n",
      "Image: img/57621.png, Label: 1\n",
      "------------------------------------------------------\n",
      "01247.png\n",
      "Image: img/40982.png, Label: 1\n",
      "------------------------------------------------------\n",
      "01247.png\n",
      "Image: img/43275.png, Label: 1\n",
      "------------------------------------------------------\n",
      "01247.png\n",
      "Image: img/12973.png, Label: 1\n",
      "------------------------------------------------------\n",
      "01247.png\n",
      "Image: img/74350.png, Label: 1\n",
      "------------------------------------------------------\n",
      "01247.png\n",
      "Image: img/02478.png, Label: 1\n",
      "------------------------------------------------------\n",
      "01247.png\n",
      "Image: img/51607.png, Label: 1\n",
      "------------------------------------------------------\n",
      "01247.png\n",
      "Image: img/65403.png, Label: 1\n",
      "------------------------------------------------------\n",
      "01247.png\n",
      "Image: img/29750.png, Label: 1\n",
      "------------------------------------------------------\n",
      "01247.png\n",
      "Image: img/26547.png, Label: 1\n",
      "------------------------------------------------------\n",
      "01247.png\n",
      "Image: img/02143.png, Label: 1\n",
      "------------------------------------------------------\n",
      "01247.png\n",
      "Image: img/68192.png, Label: 1\n",
      "------------------------------------------------------\n",
      "01247.png\n",
      "Image: img/52603.png, Label: 1\n",
      "------------------------------------------------------\n",
      "01247.png\n",
      "Image: img/05349.png, Label: 0\n",
      "------------------------------------------------------\n",
      "01247.png\n",
      "Image: img/06491.png, Label: 1\n",
      "------------------------------------------------------\n",
      "01247.png\n",
      "Image: img/74013.png, Label: 1\n",
      "------------------------------------------------------\n",
      "01247.png\n",
      "Image: img/27485.png, Label: 1\n",
      "------------------------------------------------------\n",
      "01247.png\n",
      "Image: img/13026.png, Label: 1\n",
      "------------------------------------------------------\n",
      "01247.png\n",
      "Image: img/17265.png, Label: 0\n",
      "------------------------------------------------------\n",
      "01247.png\n",
      "Image: img/91405.png, Label: 0\n",
      "------------------------------------------------------\n",
      "01247.png\n",
      "Image: img/14026.png, Label: 1\n",
      "------------------------------------------------------\n",
      "01247.png\n",
      "Image: img/18945.png, Label: 1\n",
      "------------------------------------------------------\n",
      "01247.png\n",
      "Image: img/83920.png, Label: 1\n",
      "------------------------------------------------------\n",
      "01247.png\n",
      "Image: img/83497.png, Label: 0\n",
      "------------------------------------------------------\n",
      "01247.png\n",
      "Image: img/04569.png, Label: 0\n",
      "------------------------------------------------------\n",
      "01247.png\n",
      "Image: img/39607.png, Label: 1\n",
      "------------------------------------------------------\n",
      "01247.png\n",
      "Image: img/09715.png, Label: 1\n",
      "------------------------------------------------------\n",
      "01247.png\n",
      "Image: img/01925.png, Label: 1\n",
      "------------------------------------------------------\n",
      "01247.png\n",
      "Image: img/94813.png, Label: 0\n",
      "------------------------------------------------------\n",
      "01247.png\n",
      "Image: img/29437.png, Label: 1\n",
      "------------------------------------------------------\n",
      "01247.png\n",
      "Image: img/95038.png, Label: 0\n",
      "------------------------------------------------------\n",
      "01247.png\n",
      "Image: img/64891.png, Label: 1\n",
      "------------------------------------------------------\n",
      "01247.png\n",
      "Image: img/63280.png, Label: 1\n",
      "------------------------------------------------------\n",
      "01247.png\n",
      "Image: img/17682.png, Label: 1\n",
      "------------------------------------------------------\n",
      "01247.png\n",
      "Image: img/84510.png, Label: 1\n",
      "------------------------------------------------------\n",
      "01247.png\n",
      "Image: img/28690.png, Label: 0\n",
      "------------------------------------------------------\n",
      "01247.png\n",
      "Image: img/03567.png, Label: 1\n",
      "------------------------------------------------------\n",
      "01247.png\n",
      "Image: img/95830.png, Label: 1\n",
      "------------------------------------------------------\n",
      "01247.png\n",
      "Image: img/29873.png, Label: 1\n",
      "------------------------------------------------------\n",
      "01247.png\n",
      "Image: img/70953.png, Label: 1\n",
      "------------------------------------------------------\n",
      "01247.png\n",
      "Image: img/56124.png, Label: 0\n",
      "------------------------------------------------------\n",
      "01247.png\n",
      "Image: img/10386.png, Label: 1\n",
      "------------------------------------------------------\n",
      "01247.png\n",
      "Image: img/19530.png, Label: 1\n",
      "------------------------------------------------------\n",
      "01247.png\n",
      "Image: img/94185.png, Label: 1\n",
      "------------------------------------------------------\n",
      "01247.png\n",
      "Image: img/48370.png, Label: 1\n",
      "------------------------------------------------------\n",
      "01247.png\n",
      "Image: img/74058.png, Label: 0\n",
      "------------------------------------------------------\n",
      "01247.png\n",
      "Image: img/45062.png, Label: 0\n",
      "------------------------------------------------------\n",
      "01247.png\n",
      "Image: img/94170.png, Label: 0\n",
      "------------------------------------------------------\n",
      "01247.png\n",
      "Image: img/04538.png, Label: 0\n",
      "------------------------------------------------------\n",
      "01247.png\n",
      "Image: img/83946.png, Label: 1\n",
      "------------------------------------------------------\n",
      "01247.png\n",
      "Image: img/68127.png, Label: 0\n",
      "------------------------------------------------------\n",
      "01247.png\n",
      "Image: img/97453.png, Label: 0\n",
      "------------------------------------------------------\n",
      "01247.png\n",
      "Image: img/39578.png, Label: 1\n",
      "------------------------------------------------------\n",
      "01247.png\n",
      "Image: img/49360.png, Label: 0\n",
      "------------------------------------------------------\n",
      "01247.png\n",
      "Image: img/87034.png, Label: 0\n",
      "------------------------------------------------------\n",
      "01247.png\n",
      "Image: img/06123.png, Label: 1\n",
      "------------------------------------------------------\n",
      "01247.png\n",
      "Image: img/17028.png, Label: 1\n",
      "------------------------------------------------------\n",
      "01247.png\n",
      "Image: img/42903.png, Label: 0\n",
      "------------------------------------------------------\n",
      "01247.png\n",
      "Image: img/71680.png, Label: 1\n",
      "------------------------------------------------------\n",
      "01247.png\n",
      "Image: img/24135.png, Label: 0\n",
      "------------------------------------------------------\n",
      "01247.png\n",
      "Image: img/32875.png, Label: 0\n",
      "------------------------------------------------------\n",
      "01247.png\n",
      "Image: img/79085.png, Label: 1\n",
      "------------------------------------------------------\n",
      "01247.png\n",
      "Image: img/61872.png, Label: 1\n",
      "------------------------------------------------------\n",
      "01247.png\n",
      "Image: img/30579.png, Label: 0\n",
      "------------------------------------------------------\n",
      "01247.png\n",
      "Image: img/62504.png, Label: 0\n",
      "------------------------------------------------------\n",
      "01247.png\n",
      "Image: img/43810.png, Label: 1\n",
      "------------------------------------------------------\n",
      "01247.png\n",
      "Image: img/19730.png, Label: 1\n",
      "------------------------------------------------------\n",
      "01247.png\n",
      "Image: img/37420.png, Label: 0\n",
      "------------------------------------------------------\n",
      "01247.png\n",
      "Image: img/82509.png, Label: 0\n",
      "------------------------------------------------------\n",
      "01247.png\n",
      "Image: img/96284.png, Label: 1\n",
      "------------------------------------------------------\n",
      "01247.png\n",
      "Image: img/97068.png, Label: 1\n",
      "------------------------------------------------------\n",
      "01247.png\n",
      "Image: img/03214.png, Label: 0\n",
      "------------------------------------------------------\n",
      "01247.png\n",
      "Image: img/23810.png, Label: 1\n",
      "------------------------------------------------------\n",
      "01247.png\n",
      "Image: img/91836.png, Label: 1\n",
      "------------------------------------------------------\n",
      "01247.png\n",
      "Image: img/05126.png, Label: 1\n",
      "------------------------------------------------------\n",
      "01247.png\n",
      "Image: img/76092.png, Label: 0\n",
      "------------------------------------------------------\n",
      "01247.png\n",
      "Image: img/64072.png, Label: 1\n",
      "------------------------------------------------------\n",
      "01247.png\n",
      "Image: img/91058.png, Label: 1\n",
      "------------------------------------------------------\n",
      "01247.png\n",
      "Image: img/21643.png, Label: 0\n",
      "------------------------------------------------------\n",
      "01247.png\n",
      "Image: img/19523.png, Label: 0\n",
      "------------------------------------------------------\n",
      "01247.png\n",
      "Image: img/32691.png, Label: 1\n",
      "------------------------------------------------------\n",
      "01247.png\n",
      "Image: img/87169.png, Label: 1\n",
      "------------------------------------------------------\n",
      "01247.png\n",
      "Image: img/92738.png, Label: 1\n",
      "------------------------------------------------------\n",
      "01247.png\n",
      "Image: img/53027.png, Label: 0\n",
      "------------------------------------------------------\n",
      "01247.png\n",
      "Image: img/27195.png, Label: 0\n",
      "------------------------------------------------------\n",
      "01247.png\n",
      "Image: img/43910.png, Label: 1\n",
      "------------------------------------------------------\n",
      "01247.png\n",
      "Image: img/05213.png, Label: 0\n",
      "------------------------------------------------------\n",
      "01247.png\n",
      "Image: img/73945.png, Label: 0\n",
      "------------------------------------------------------\n",
      "01247.png\n",
      "Image: img/56207.png, Label: 1\n",
      "------------------------------------------------------\n",
      "01247.png\n",
      "Image: img/68459.png, Label: 1\n",
      "------------------------------------------------------\n",
      "01247.png\n",
      "Image: img/63175.png, Label: 0\n",
      "------------------------------------------------------\n",
      "01247.png\n",
      "Image: img/82945.png, Label: 0\n",
      "------------------------------------------------------\n",
      "01247.png\n",
      "Image: img/34975.png, Label: 0\n",
      "------------------------------------------------------\n",
      "01247.png\n",
      "Image: img/61973.png, Label: 1\n",
      "------------------------------------------------------\n",
      "01247.png\n",
      "Image: img/16420.png, Label: 0\n",
      "------------------------------------------------------\n",
      "01247.png\n",
      "Image: img/73069.png, Label: 1\n",
      "------------------------------------------------------\n",
      "01247.png\n",
      "Image: img/47056.png, Label: 1\n",
      "------------------------------------------------------\n",
      "01247.png\n",
      "Image: img/56428.png, Label: 0\n",
      "------------------------------------------------------\n",
      "01247.png\n",
      "Image: img/54206.png, Label: 0\n",
      "------------------------------------------------------\n",
      "01247.png\n",
      "Image: img/93172.png, Label: 0\n",
      "------------------------------------------------------\n",
      "01247.png\n",
      "Image: img/56980.png, Label: 0\n",
      "------------------------------------------------------\n",
      "01247.png\n",
      "Image: img/79615.png, Label: 0\n",
      "------------------------------------------------------\n",
      "01247.png\n",
      "Image: img/38047.png, Label: 0\n",
      "------------------------------------------------------\n",
      "01247.png\n",
      "Image: img/94560.png, Label: 1\n",
      "------------------------------------------------------\n",
      "01247.png\n",
      "Image: img/96250.png, Label: 0\n",
      "------------------------------------------------------\n",
      "01247.png\n",
      "Image: img/28951.png, Label: 0\n",
      "------------------------------------------------------\n",
      "01247.png\n",
      "Image: img/27614.png, Label: 0\n",
      "------------------------------------------------------\n",
      "01247.png\n",
      "Image: img/04857.png, Label: 1\n",
      "------------------------------------------------------\n",
      "01247.png\n",
      "Image: img/79603.png, Label: 1\n",
      "------------------------------------------------------\n",
      "01247.png\n",
      "Image: img/26985.png, Label: 1\n",
      "------------------------------------------------------\n",
      "01247.png\n",
      "Image: img/14873.png, Label: 1\n",
      "------------------------------------------------------\n",
      "01247.png\n",
      "Image: img/54893.png, Label: 0\n",
      "------------------------------------------------------\n",
      "01247.png\n",
      "Image: img/48236.png, Label: 0\n",
      "------------------------------------------------------\n",
      "01247.png\n",
      "Image: img/74908.png, Label: 0\n",
      "------------------------------------------------------\n",
      "01247.png\n",
      "Image: img/96472.png, Label: 1\n",
      "------------------------------------------------------\n",
      "01247.png\n",
      "Image: img/89430.png, Label: 0\n",
      "------------------------------------------------------\n",
      "01247.png\n",
      "Image: img/76921.png, Label: 1\n",
      "------------------------------------------------------\n",
      "01247.png\n",
      "Image: img/68409.png, Label: 1\n",
      "------------------------------------------------------\n",
      "01247.png\n",
      "Image: img/16354.png, Label: 1\n",
      "------------------------------------------------------\n",
      "01247.png\n",
      "Image: img/69548.png, Label: 1\n",
      "------------------------------------------------------\n",
      "01247.png\n",
      "Image: img/01456.png, Label: 1\n",
      "------------------------------------------------------\n",
      "01247.png\n",
      "Image: img/17950.png, Label: 0\n",
      "------------------------------------------------------\n",
      "01247.png\n",
      "Image: img/76295.png, Label: 0\n",
      "------------------------------------------------------\n",
      "01247.png\n",
      "Image: img/42580.png, Label: 1\n",
      "------------------------------------------------------\n",
      "01247.png\n",
      "Image: img/96180.png, Label: 1\n",
      "------------------------------------------------------\n",
      "01247.png\n",
      "Image: img/98701.png, Label: 1\n",
      "------------------------------------------------------\n",
      "01247.png\n",
      "Image: img/15243.png, Label: 0\n",
      "------------------------------------------------------\n",
      "01247.png\n",
      "Image: img/41058.png, Label: 0\n",
      "------------------------------------------------------\n",
      "01247.png\n",
      "Image: img/62375.png, Label: 1\n",
      "------------------------------------------------------\n",
      "01247.png\n",
      "Image: img/63507.png, Label: 0\n",
      "------------------------------------------------------\n",
      "01247.png\n",
      "Image: img/31208.png, Label: 1\n",
      "------------------------------------------------------\n",
      "01247.png\n",
      "Image: img/62319.png, Label: 1\n",
      "------------------------------------------------------\n",
      "01247.png\n",
      "Image: img/68253.png, Label: 1\n",
      "------------------------------------------------------\n",
      "01247.png\n",
      "Image: img/34687.png, Label: 1\n",
      "------------------------------------------------------\n",
      "01247.png\n",
      "Image: img/34209.png, Label: 0\n",
      "------------------------------------------------------\n",
      "01247.png\n",
      "Image: img/39827.png, Label: 1\n",
      "------------------------------------------------------\n",
      "01247.png\n",
      "Image: img/46920.png, Label: 1\n",
      "------------------------------------------------------\n",
      "01247.png\n",
      "Image: img/84273.png, Label: 0\n",
      "------------------------------------------------------\n",
      "01247.png\n",
      "Image: img/39018.png, Label: 0\n",
      "------------------------------------------------------\n",
      "01247.png\n",
      "Image: img/54780.png, Label: 1\n",
      "------------------------------------------------------\n",
      "01247.png\n",
      "Image: img/69150.png, Label: 1\n",
      "------------------------------------------------------\n",
      "01247.png\n",
      "Image: img/29843.png, Label: 0\n",
      "------------------------------------------------------\n",
      "01247.png\n",
      "Image: img/19385.png, Label: 0\n",
      "------------------------------------------------------\n",
      "01247.png\n",
      "Image: img/64510.png, Label: 0\n",
      "------------------------------------------------------\n",
      "01247.png\n",
      "Image: img/47103.png, Label: 0\n",
      "------------------------------------------------------\n",
      "01247.png\n",
      "Image: img/61038.png, Label: 0\n",
      "------------------------------------------------------\n",
      "01247.png\n",
      "Image: img/71620.png, Label: 1\n",
      "------------------------------------------------------\n",
      "01247.png\n",
      "Image: img/91602.png, Label: 0\n",
      "------------------------------------------------------\n",
      "01247.png\n",
      "Image: img/30145.png, Label: 0\n",
      "------------------------------------------------------\n",
      "01247.png\n",
      "Image: img/91756.png, Label: 1\n",
      "------------------------------------------------------\n",
      "01247.png\n",
      "Image: img/63745.png, Label: 1\n",
      "------------------------------------------------------\n",
      "01247.png\n",
      "Image: img/47162.png, Label: 1\n",
      "------------------------------------------------------\n",
      "01247.png\n",
      "Image: img/59806.png, Label: 0\n",
      "------------------------------------------------------\n",
      "01247.png\n",
      "Image: img/07135.png, Label: 1\n",
      "------------------------------------------------------\n",
      "01247.png\n",
      "Image: img/35497.png, Label: 0\n",
      "------------------------------------------------------\n",
      "01247.png\n",
      "Image: img/84362.png, Label: 0\n",
      "------------------------------------------------------\n",
      "01247.png\n",
      "Image: img/84015.png, Label: 1\n",
      "------------------------------------------------------\n",
      "01247.png\n",
      "Image: img/87251.png, Label: 0\n",
      "------------------------------------------------------\n",
      "01247.png\n",
      "Image: img/82590.png, Label: 1\n",
      "------------------------------------------------------\n",
      "01247.png\n",
      "Image: img/59738.png, Label: 1\n",
      "------------------------------------------------------\n",
      "01247.png\n",
      "Image: img/35470.png, Label: 0\n",
      "------------------------------------------------------\n",
      "01247.png\n",
      "Image: img/72061.png, Label: 1\n",
      "------------------------------------------------------\n",
      "01247.png\n",
      "Image: img/03524.png, Label: 1\n",
      "------------------------------------------------------\n",
      "01247.png\n",
      "Image: img/86170.png, Label: 1\n",
      "------------------------------------------------------\n",
      "01247.png\n",
      "Image: img/50841.png, Label: 0\n",
      "------------------------------------------------------\n",
      "01247.png\n",
      "Image: img/46087.png, Label: 0\n",
      "------------------------------------------------------\n",
      "01247.png\n",
      "Image: img/42058.png, Label: 0\n",
      "------------------------------------------------------\n",
      "01247.png\n",
      "Image: img/01967.png, Label: 0\n",
      "------------------------------------------------------\n",
      "01247.png\n",
      "Image: img/54930.png, Label: 1\n",
      "------------------------------------------------------\n",
      "01247.png\n",
      "Image: img/38076.png, Label: 1\n",
      "------------------------------------------------------\n",
      "01247.png\n",
      "Image: img/38910.png, Label: 1\n",
      "------------------------------------------------------\n",
      "01247.png\n",
      "Image: img/06723.png, Label: 1\n",
      "------------------------------------------------------\n",
      "01247.png\n",
      "Image: img/02157.png, Label: 1\n",
      "------------------------------------------------------\n",
      "01247.png\n",
      "Image: img/62948.png, Label: 1\n",
      "------------------------------------------------------\n",
      "01247.png\n",
      "Image: img/21075.png, Label: 0\n",
      "------------------------------------------------------\n",
      "01247.png\n",
      "Image: img/73601.png, Label: 1\n",
      "------------------------------------------------------\n",
      "01247.png\n",
      "Image: img/32579.png, Label: 0\n",
      "------------------------------------------------------\n",
      "01247.png\n",
      "Image: img/21567.png, Label: 1\n",
      "------------------------------------------------------\n",
      "01247.png\n",
      "Image: img/01765.png, Label: 1\n",
      "------------------------------------------------------\n",
      "01247.png\n",
      "Image: img/53172.png, Label: 0\n",
      "------------------------------------------------------\n",
      "01247.png\n",
      "Image: img/32568.png, Label: 1\n",
      "------------------------------------------------------\n",
      "01247.png\n",
      "Image: img/01742.png, Label: 0\n",
      "------------------------------------------------------\n",
      "01247.png\n",
      "Image: img/56098.png, Label: 1\n",
      "------------------------------------------------------\n",
      "01247.png\n",
      "Image: img/78612.png, Label: 0\n",
      "------------------------------------------------------\n",
      "01247.png\n",
      "Image: img/34018.png, Label: 1\n",
      "------------------------------------------------------\n",
      "01247.png\n",
      "Image: img/53609.png, Label: 0\n",
      "------------------------------------------------------\n",
      "01247.png\n",
      "Image: img/89362.png, Label: 1\n",
      "------------------------------------------------------\n",
      "01247.png\n",
      "Image: img/80426.png, Label: 1\n",
      "------------------------------------------------------\n",
      "01247.png\n",
      "Image: img/83045.png, Label: 1\n",
      "------------------------------------------------------\n",
      "01247.png\n",
      "Image: img/61503.png, Label: 0\n",
      "------------------------------------------------------\n",
      "01247.png\n",
      "Image: img/41890.png, Label: 1\n",
      "------------------------------------------------------\n",
      "01247.png\n",
      "Image: img/52091.png, Label: 1\n",
      "------------------------------------------------------\n",
      "01247.png\n",
      "Image: img/24396.png, Label: 1\n",
      "------------------------------------------------------\n",
      "01247.png\n",
      "Image: img/72168.png, Label: 1\n",
      "------------------------------------------------------\n",
      "01247.png\n",
      "Image: img/85761.png, Label: 1\n",
      "------------------------------------------------------\n",
      "01247.png\n",
      "Image: img/35719.png, Label: 0\n",
      "------------------------------------------------------\n",
      "01247.png\n",
      "Image: img/90256.png, Label: 1\n",
      "------------------------------------------------------\n",
      "01247.png\n",
      "Image: img/20984.png, Label: 0\n",
      "------------------------------------------------------\n",
      "01247.png\n",
      "Image: img/95086.png, Label: 1\n",
      "------------------------------------------------------\n",
      "01247.png\n",
      "Image: img/49028.png, Label: 0\n",
      "------------------------------------------------------\n",
      "01247.png\n",
      "Image: img/18356.png, Label: 0\n",
      "------------------------------------------------------\n",
      "01247.png\n",
      "Image: img/52634.png, Label: 0\n",
      "------------------------------------------------------\n",
      "01247.png\n",
      "Image: img/80512.png, Label: 1\n",
      "------------------------------------------------------\n",
      "01247.png\n",
      "Image: img/62703.png, Label: 0\n",
      "------------------------------------------------------\n",
      "01247.png\n",
      "Image: img/95176.png, Label: 0\n",
      "------------------------------------------------------\n",
      "01247.png\n",
      "Image: img/27384.png, Label: 0\n",
      "------------------------------------------------------\n",
      "01247.png\n",
      "Image: img/82437.png, Label: 1\n",
      "------------------------------------------------------\n",
      "01247.png\n",
      "Image: img/26943.png, Label: 1\n",
      "------------------------------------------------------\n",
      "01247.png\n",
      "Image: img/09152.png, Label: 0\n",
      "------------------------------------------------------\n",
      "01247.png\n",
      "Image: img/07429.png, Label: 1\n",
      "------------------------------------------------------\n",
      "01247.png\n",
      "Image: img/75639.png, Label: 1\n",
      "------------------------------------------------------\n",
      "01247.png\n",
      "Image: img/46812.png, Label: 0\n",
      "------------------------------------------------------\n",
      "01247.png\n",
      "Image: img/63827.png, Label: 1\n",
      "------------------------------------------------------\n",
      "01247.png\n",
      "Image: img/41276.png, Label: 1\n",
      "------------------------------------------------------\n",
      "01247.png\n",
      "Image: img/56413.png, Label: 1\n",
      "------------------------------------------------------\n",
      "01247.png\n",
      "Image: img/69512.png, Label: 0\n",
      "------------------------------------------------------\n",
      "01247.png\n",
      "Image: img/43175.png, Label: 1\n",
      "------------------------------------------------------\n",
      "01247.png\n",
      "Image: img/54129.png, Label: 0\n",
      "------------------------------------------------------\n",
      "01247.png\n",
      "Image: img/23645.png, Label: 1\n",
      "------------------------------------------------------\n",
      "01247.png\n",
      "Image: img/89425.png, Label: 1\n",
      "------------------------------------------------------\n",
      "01247.png\n",
      "Image: img/16923.png, Label: 1\n",
      "------------------------------------------------------\n",
      "01247.png\n",
      "Image: img/04769.png, Label: 1\n",
      "------------------------------------------------------\n",
      "01247.png\n",
      "Image: img/69815.png, Label: 1\n",
      "------------------------------------------------------\n",
      "01247.png\n",
      "Image: img/91468.png, Label: 0\n",
      "------------------------------------------------------\n",
      "01247.png\n",
      "Image: img/52104.png, Label: 0\n",
      "------------------------------------------------------\n",
      "01247.png\n",
      "Image: img/52031.png, Label: 0\n",
      "------------------------------------------------------\n",
      "01247.png\n",
      "Image: img/08795.png, Label: 0\n",
      "------------------------------------------------------\n",
      "01247.png\n",
      "Image: img/50317.png, Label: 1\n",
      "------------------------------------------------------\n",
      "01247.png\n",
      "Image: img/73914.png, Label: 1\n",
      "------------------------------------------------------\n",
      "01247.png\n",
      "Image: img/03197.png, Label: 1\n",
      "------------------------------------------------------\n",
      "01247.png\n",
      "Image: img/49621.png, Label: 0\n",
      "------------------------------------------------------\n",
      "01247.png\n",
      "Image: img/68530.png, Label: 1\n",
      "------------------------------------------------------\n",
      "01247.png\n",
      "Image: img/98547.png, Label: 0\n",
      "------------------------------------------------------\n",
      "01247.png\n",
      "Image: img/03519.png, Label: 1\n",
      "------------------------------------------------------\n",
      "01247.png\n",
      "Image: img/43698.png, Label: 0\n",
      "------------------------------------------------------\n",
      "01247.png\n",
      "Image: img/84756.png, Label: 1\n",
      "------------------------------------------------------\n",
      "01247.png\n",
      "Image: img/93051.png, Label: 0\n",
      "------------------------------------------------------\n",
      "01247.png\n",
      "Image: img/68257.png, Label: 0\n",
      "------------------------------------------------------\n",
      "01247.png\n",
      "Image: img/12834.png, Label: 1\n",
      "------------------------------------------------------\n",
      "01247.png\n",
      "Image: img/57208.png, Label: 0\n",
      "------------------------------------------------------\n",
      "01247.png\n",
      "Image: img/26439.png, Label: 0\n",
      "------------------------------------------------------\n",
      "01247.png\n",
      "Image: img/53769.png, Label: 0\n",
      "------------------------------------------------------\n",
      "01247.png\n",
      "Image: img/28406.png, Label: 0\n",
      "------------------------------------------------------\n",
      "01247.png\n",
      "Image: img/53418.png, Label: 0\n",
      "------------------------------------------------------\n",
      "01247.png\n",
      "Image: img/10785.png, Label: 1\n",
      "------------------------------------------------------\n",
      "01247.png\n",
      "Image: img/84302.png, Label: 0\n",
      "------------------------------------------------------\n",
      "01247.png\n",
      "Image: img/76015.png, Label: 0\n",
      "------------------------------------------------------\n",
      "01247.png\n",
      "Image: img/34189.png, Label: 0\n",
      "------------------------------------------------------\n",
      "01247.png\n",
      "Image: img/52079.png, Label: 0\n",
      "------------------------------------------------------\n",
      "01247.png\n",
      "Image: img/63987.png, Label: 0\n",
      "------------------------------------------------------\n",
      "01247.png\n",
      "Image: img/73526.png, Label: 0\n",
      "------------------------------------------------------\n",
      "01247.png\n",
      "Image: img/02145.png, Label: 0\n",
      "------------------------------------------------------\n",
      "01247.png\n",
      "Image: img/84102.png, Label: 0\n",
      "------------------------------------------------------\n",
      "01247.png\n",
      "Image: img/32981.png, Label: 0\n",
      "------------------------------------------------------\n",
      "01247.png\n",
      "Image: img/73605.png, Label: 0\n",
      "------------------------------------------------------\n",
      "01247.png\n",
      "Image: img/07382.png, Label: 1\n",
      "------------------------------------------------------\n",
      "01247.png\n",
      "Image: img/64071.png, Label: 0\n",
      "------------------------------------------------------\n",
      "01247.png\n",
      "Image: img/80912.png, Label: 0\n",
      "------------------------------------------------------\n",
      "01247.png\n",
      "Image: img/84762.png, Label: 1\n",
      "------------------------------------------------------\n",
      "01247.png\n",
      "Image: img/39076.png, Label: 0\n",
      "------------------------------------------------------\n",
      "01247.png\n",
      "Image: img/85679.png, Label: 1\n",
      "------------------------------------------------------\n",
      "01247.png\n",
      "Image: img/38095.png, Label: 0\n",
      "------------------------------------------------------\n",
      "01247.png\n",
      "Image: img/52394.png, Label: 0\n",
      "------------------------------------------------------\n",
      "01247.png\n",
      "Image: img/14865.png, Label: 0\n",
      "------------------------------------------------------\n",
      "01247.png\n",
      "Image: img/54819.png, Label: 0\n",
      "------------------------------------------------------\n",
      "01247.png\n",
      "Image: img/46082.png, Label: 0\n",
      "------------------------------------------------------\n",
      "01247.png\n",
      "Image: img/73962.png, Label: 1\n",
      "------------------------------------------------------\n",
      "01247.png\n",
      "Image: img/78462.png, Label: 0\n",
      "------------------------------------------------------\n",
      "01247.png\n",
      "Image: img/49805.png, Label: 0\n",
      "------------------------------------------------------\n",
      "01247.png\n",
      "Image: img/24098.png, Label: 1\n",
      "------------------------------------------------------\n",
      "01247.png\n",
      "Image: img/67435.png, Label: 1\n",
      "------------------------------------------------------\n",
      "01247.png\n",
      "Image: img/60893.png, Label: 0\n",
      "------------------------------------------------------\n",
      "01247.png\n",
      "Image: img/93148.png, Label: 0\n",
      "------------------------------------------------------\n",
      "01247.png\n",
      "Image: img/07351.png, Label: 0\n",
      "------------------------------------------------------\n",
      "01247.png\n",
      "Image: img/16850.png, Label: 0\n",
      "------------------------------------------------------\n",
      "01247.png\n",
      "Image: img/96312.png, Label: 0\n",
      "------------------------------------------------------\n",
      "01247.png\n",
      "Image: img/86195.png, Label: 0\n",
      "------------------------------------------------------\n",
      "01247.png\n",
      "Image: img/84162.png, Label: 0\n",
      "------------------------------------------------------\n",
      "01247.png\n",
      "Image: img/12067.png, Label: 0\n",
      "------------------------------------------------------\n",
      "01247.png\n",
      "Image: img/05938.png, Label: 1\n",
      "------------------------------------------------------\n",
      "01247.png\n",
      "Image: img/43092.png, Label: 0\n",
      "------------------------------------------------------\n",
      "01247.png\n",
      "Image: img/30148.png, Label: 1\n",
      "------------------------------------------------------\n",
      "01247.png\n",
      "Image: img/12045.png, Label: 0\n",
      "------------------------------------------------------\n",
      "01247.png\n",
      "Image: img/92068.png, Label: 0\n",
      "------------------------------------------------------\n",
      "01247.png\n",
      "Image: img/73021.png, Label: 0\n",
      "------------------------------------------------------\n",
      "01247.png\n",
      "Image: img/56241.png, Label: 1\n",
      "------------------------------------------------------\n",
      "01247.png\n",
      "Image: img/28905.png, Label: 1\n",
      "------------------------------------------------------\n",
      "01247.png\n",
      "Image: img/13750.png, Label: 0\n",
      "------------------------------------------------------\n",
      "01247.png\n",
      "Image: img/06582.png, Label: 1\n",
      "------------------------------------------------------\n",
      "01247.png\n",
      "Image: img/75142.png, Label: 0\n",
      "------------------------------------------------------\n",
      "01247.png\n",
      "Image: img/56149.png, Label: 0\n",
      "------------------------------------------------------\n",
      "01247.png\n",
      "Image: img/41796.png, Label: 0\n",
      "------------------------------------------------------\n",
      "01247.png\n",
      "Image: img/31570.png, Label: 1\n",
      "------------------------------------------------------\n",
      "01247.png\n",
      "Image: img/01726.png, Label: 1\n",
      "------------------------------------------------------\n",
      "01247.png\n",
      "Image: img/23785.png, Label: 0\n",
      "------------------------------------------------------\n",
      "01247.png\n",
      "Image: img/56473.png, Label: 0\n",
      "------------------------------------------------------\n",
      "01247.png\n",
      "Image: img/62970.png, Label: 0\n",
      "------------------------------------------------------\n",
      "01247.png\n",
      "Image: img/41035.png, Label: 0\n",
      "------------------------------------------------------\n",
      "01247.png\n",
      "Image: img/10285.png, Label: 1\n",
      "------------------------------------------------------\n",
      "01247.png\n",
      "Image: img/95604.png, Label: 1\n",
      "------------------------------------------------------\n",
      "01247.png\n",
      "Image: img/68401.png, Label: 0\n",
      "------------------------------------------------------\n",
      "01247.png\n",
      "Image: img/50984.png, Label: 0\n",
      "------------------------------------------------------\n",
      "01247.png\n",
      "Image: img/17908.png, Label: 0\n",
      "------------------------------------------------------\n",
      "01247.png\n",
      "Image: img/42631.png, Label: 1\n",
      "------------------------------------------------------\n",
      "01247.png\n",
      "Image: img/61349.png, Label: 1\n",
      "------------------------------------------------------\n",
      "01247.png\n",
      "Image: img/65093.png, Label: 0\n",
      "------------------------------------------------------\n",
      "01247.png\n",
      "Image: img/86357.png, Label: 0\n",
      "------------------------------------------------------\n",
      "01247.png\n",
      "Image: img/74965.png, Label: 0\n",
      "------------------------------------------------------\n",
      "01247.png\n",
      "Image: img/75918.png, Label: 0\n",
      "------------------------------------------------------\n",
      "01247.png\n",
      "Image: img/14975.png, Label: 0\n",
      "------------------------------------------------------\n",
      "01247.png\n",
      "Image: img/92317.png, Label: 0\n",
      "------------------------------------------------------\n",
      "01247.png\n",
      "Image: img/19536.png, Label: 1\n",
      "------------------------------------------------------\n",
      "01247.png\n",
      "Image: img/90236.png, Label: 0\n",
      "------------------------------------------------------\n",
      "01247.png\n",
      "Image: img/30642.png, Label: 0\n",
      "------------------------------------------------------\n",
      "01247.png\n",
      "Image: img/59206.png, Label: 0\n",
      "------------------------------------------------------\n",
      "01247.png\n",
      "Image: img/19075.png, Label: 0\n",
      "------------------------------------------------------\n",
      "01247.png\n",
      "Image: img/79042.png, Label: 0\n",
      "------------------------------------------------------\n",
      "01247.png\n",
      "Image: img/98720.png, Label: 0\n",
      "------------------------------------------------------\n",
      "01247.png\n",
      "Image: img/02634.png, Label: 1\n",
      "------------------------------------------------------\n",
      "01247.png\n",
      "Image: img/84107.png, Label: 0\n",
      "------------------------------------------------------\n",
      "01247.png\n",
      "Image: img/07198.png, Label: 1\n",
      "------------------------------------------------------\n",
      "01247.png\n",
      "Image: img/45702.png, Label: 1\n",
      "------------------------------------------------------\n",
      "01247.png\n",
      "Image: img/46085.png, Label: 0\n",
      "------------------------------------------------------\n",
      "01247.png\n",
      "Image: img/08451.png, Label: 0\n",
      "------------------------------------------------------\n",
      "01247.png\n",
      "Image: img/73482.png, Label: 0\n",
      "------------------------------------------------------\n",
      "01247.png\n",
      "Image: img/28017.png, Label: 1\n",
      "------------------------------------------------------\n",
      "01247.png\n",
      "Image: img/02364.png, Label: 0\n",
      "------------------------------------------------------\n",
      "01247.png\n",
      "Image: img/42538.png, Label: 0\n",
      "------------------------------------------------------\n",
      "01247.png\n",
      "Image: img/47183.png, Label: 0\n",
      "------------------------------------------------------\n",
      "01247.png\n",
      "Image: img/72904.png, Label: 1\n",
      "------------------------------------------------------\n",
      "01247.png\n",
      "Image: img/90243.png, Label: 1\n",
      "------------------------------------------------------\n",
      "01247.png\n",
      "Image: img/41382.png, Label: 0\n",
      "------------------------------------------------------\n",
      "01247.png\n",
      "Image: img/78156.png, Label: 0\n",
      "------------------------------------------------------\n",
      "01247.png\n",
      "Image: img/74250.png, Label: 0\n",
      "------------------------------------------------------\n",
      "01247.png\n",
      "Image: img/97132.png, Label: 0\n",
      "------------------------------------------------------\n",
      "01247.png\n",
      "Image: img/35840.png, Label: 1\n",
      "------------------------------------------------------\n",
      "01247.png\n",
      "Image: img/78134.png, Label: 0\n",
      "------------------------------------------------------\n",
      "01247.png\n",
      "Image: img/93620.png, Label: 1\n",
      "------------------------------------------------------\n",
      "01247.png\n",
      "Image: img/57369.png, Label: 0\n",
      "------------------------------------------------------\n",
      "01247.png\n",
      "Image: img/10362.png, Label: 1\n",
      "------------------------------------------------------\n",
      "01247.png\n",
      "Image: img/36058.png, Label: 0\n",
      "------------------------------------------------------\n",
      "01247.png\n",
      "Image: img/09467.png, Label: 1\n",
      "------------------------------------------------------\n",
      "01247.png\n",
      "Image: img/60183.png, Label: 1\n",
      "------------------------------------------------------\n",
      "01247.png\n",
      "Image: img/47263.png, Label: 1\n",
      "------------------------------------------------------\n",
      "01247.png\n",
      "Image: img/18726.png, Label: 0\n",
      "------------------------------------------------------\n",
      "01247.png\n",
      "Image: img/50379.png, Label: 0\n",
      "------------------------------------------------------\n",
      "01247.png\n",
      "Image: img/06352.png, Label: 0\n",
      "------------------------------------------------------\n",
      "01247.png\n",
      "Image: img/58093.png, Label: 0\n",
      "------------------------------------------------------\n",
      "01247.png\n",
      "Image: img/19508.png, Label: 1\n",
      "------------------------------------------------------\n",
      "01247.png\n",
      "Image: img/02783.png, Label: 1\n",
      "------------------------------------------------------\n",
      "01247.png\n",
      "Image: img/41728.png, Label: 0\n",
      "------------------------------------------------------\n",
      "01247.png\n",
      "Image: img/51306.png, Label: 0\n",
      "------------------------------------------------------\n",
      "01247.png\n",
      "Image: img/50241.png, Label: 1\n",
      "------------------------------------------------------\n",
      "01247.png\n",
      "Image: img/49650.png, Label: 1\n",
      "------------------------------------------------------\n",
      "01247.png\n",
      "Image: img/17045.png, Label: 0\n",
      "------------------------------------------------------\n",
      "01247.png\n",
      "Image: img/89536.png, Label: 0\n",
      "------------------------------------------------------\n",
      "01247.png\n",
      "Image: img/26187.png, Label: 1\n",
      "------------------------------------------------------\n",
      "01247.png\n",
      "Image: img/74906.png, Label: 1\n",
      "------------------------------------------------------\n",
      "01247.png\n",
      "Image: img/28190.png, Label: 1\n",
      "------------------------------------------------------\n",
      "01247.png\n",
      "Image: img/89642.png, Label: 1\n",
      "------------------------------------------------------\n",
      "01247.png\n",
      "Image: img/59170.png, Label: 0\n",
      "------------------------------------------------------\n",
      "01247.png\n",
      "Image: img/30927.png, Label: 0\n",
      "------------------------------------------------------\n",
      "01247.png\n",
      "Image: img/32049.png, Label: 0\n",
      "------------------------------------------------------\n",
      "01247.png\n",
      "Image: img/95173.png, Label: 0\n",
      "------------------------------------------------------\n",
      "01247.png\n",
      "Image: img/50198.png, Label: 0\n",
      "------------------------------------------------------\n",
      "01247.png\n",
      "Image: img/37658.png, Label: 1\n",
      "------------------------------------------------------\n",
      "01247.png\n",
      "Image: img/95613.png, Label: 1\n",
      "------------------------------------------------------\n",
      "01247.png\n",
      "Image: img/43805.png, Label: 1\n",
      "------------------------------------------------------\n",
      "01247.png\n",
      "Image: img/18306.png, Label: 1\n",
      "------------------------------------------------------\n",
      "01247.png\n",
      "Image: img/46518.png, Label: 1\n",
      "------------------------------------------------------\n",
      "01247.png\n",
      "Image: img/18547.png, Label: 1\n",
      "------------------------------------------------------\n",
      "01247.png\n",
      "Image: img/02518.png, Label: 0\n",
      "------------------------------------------------------\n",
      "01247.png\n",
      "Image: img/04621.png, Label: 0\n",
      "------------------------------------------------------\n",
      "01247.png\n",
      "Image: img/98543.png, Label: 1\n",
      "------------------------------------------------------\n",
      "01247.png\n",
      "Image: img/85621.png, Label: 0\n",
      "------------------------------------------------------\n",
      "01247.png\n",
      "Image: img/18367.png, Label: 0\n",
      "------------------------------------------------------\n",
      "01247.png\n",
      "Image: img/84036.png, Label: 0\n",
      "------------------------------------------------------\n",
      "01247.png\n",
      "Image: img/86417.png, Label: 1\n",
      "------------------------------------------------------\n",
      "01247.png\n",
      "Image: img/92567.png, Label: 0\n",
      "------------------------------------------------------\n",
      "01247.png\n",
      "Image: img/63921.png, Label: 0\n",
      "------------------------------------------------------\n",
      "01247.png\n",
      "Image: img/72864.png, Label: 1\n",
      "------------------------------------------------------\n",
      "01247.png\n",
      "Image: img/30586.png, Label: 0\n",
      "------------------------------------------------------\n",
      "01247.png\n",
      "Image: img/83264.png, Label: 1\n",
      "------------------------------------------------------\n",
      "01247.png\n",
      "Image: img/93041.png, Label: 0\n",
      "------------------------------------------------------\n",
      "01247.png\n",
      "Image: img/97305.png, Label: 1\n",
      "------------------------------------------------------\n",
      "01247.png\n",
      "Image: img/03568.png, Label: 0\n",
      "------------------------------------------------------\n",
      "01247.png\n",
      "Image: img/07653.png, Label: 1\n",
      "------------------------------------------------------\n",
      "01247.png\n",
      "Image: img/26397.png, Label: 0\n",
      "------------------------------------------------------\n",
      "01247.png\n",
      "Image: img/03217.png, Label: 0\n",
      "------------------------------------------------------\n",
      "01247.png\n",
      "Image: img/40618.png, Label: 0\n",
      "------------------------------------------------------\n",
      "01247.png\n",
      "Image: img/67208.png, Label: 0\n",
      "------------------------------------------------------\n",
      "01247.png\n",
      "Image: img/03798.png, Label: 0\n",
      "------------------------------------------------------\n",
      "01247.png\n",
      "Image: img/12468.png, Label: 0\n",
      "------------------------------------------------------\n",
      "01247.png\n",
      "Image: img/16842.png, Label: 0\n",
      "------------------------------------------------------\n",
      "01247.png\n",
      "Image: img/68043.png, Label: 1\n",
      "------------------------------------------------------\n",
      "01247.png\n",
      "Image: img/51807.png, Label: 0\n",
      "------------------------------------------------------\n",
      "01247.png\n",
      "Image: img/78914.png, Label: 0\n",
      "------------------------------------------------------\n",
      "01247.png\n",
      "Image: img/47950.png, Label: 0\n",
      "------------------------------------------------------\n",
      "01247.png\n",
      "Image: img/95487.png, Label: 0\n",
      "------------------------------------------------------\n",
      "01247.png\n",
      "Image: img/49260.png, Label: 0\n",
      "------------------------------------------------------\n",
      "01247.png\n",
      "Image: img/20861.png, Label: 1\n",
      "------------------------------------------------------\n",
      "01247.png\n",
      "Image: img/38914.png, Label: 0\n",
      "------------------------------------------------------\n",
      "01247.png\n",
      "Image: img/47016.png, Label: 1\n",
      "------------------------------------------------------\n",
      "01247.png\n",
      "Image: img/14389.png, Label: 1\n",
      "------------------------------------------------------\n",
      "01247.png\n",
      "Image: img/35487.png, Label: 0\n",
      "------------------------------------------------------\n",
      "01247.png\n",
      "Image: img/84150.png, Label: 0\n",
      "------------------------------------------------------\n",
      "01247.png\n",
      "Image: img/13809.png, Label: 1\n",
      "------------------------------------------------------\n",
      "01247.png\n",
      "Image: img/50261.png, Label: 1\n",
      "------------------------------------------------------\n",
      "01247.png\n",
      "Image: img/75286.png, Label: 1\n",
      "------------------------------------------------------\n",
      "01247.png\n",
      "Image: img/64312.png, Label: 1\n",
      "------------------------------------------------------\n",
      "01247.png\n",
      "Image: img/67103.png, Label: 1\n",
      "------------------------------------------------------\n",
      "01247.png\n",
      "Image: img/18059.png, Label: 1\n",
      "------------------------------------------------------\n",
      "01247.png\n",
      "Image: img/90643.png, Label: 0\n",
      "------------------------------------------------------\n",
      "01247.png\n",
      "Image: img/16749.png, Label: 0\n",
      "------------------------------------------------------\n",
      "01247.png\n",
      "Image: img/37814.png, Label: 0\n",
      "------------------------------------------------------\n",
      "01247.png\n",
      "Image: img/92046.png, Label: 0\n",
      "------------------------------------------------------\n",
      "01247.png\n",
      "Image: img/90843.png, Label: 0\n",
      "------------------------------------------------------\n",
      "01247.png\n",
      "Image: img/85237.png, Label: 0\n",
      "------------------------------------------------------\n",
      "01247.png\n",
      "Image: img/98235.png, Label: 0\n",
      "------------------------------------------------------\n",
      "01247.png\n",
      "Image: img/90267.png, Label: 0\n",
      "------------------------------------------------------\n",
      "01247.png\n",
      "Image: img/48296.png, Label: 1\n",
      "------------------------------------------------------\n",
      "01247.png\n",
      "Image: img/29174.png, Label: 0\n",
      "------------------------------------------------------\n",
      "01247.png\n",
      "Image: img/65801.png, Label: 0\n",
      "------------------------------------------------------\n",
      "01247.png\n",
      "Image: img/91763.png, Label: 1\n",
      "------------------------------------------------------\n",
      "01247.png\n",
      "Image: img/94387.png, Label: 0\n",
      "------------------------------------------------------\n",
      "01247.png\n",
      "Image: img/80947.png, Label: 1\n",
      "------------------------------------------------------\n",
      "01247.png\n",
      "Image: img/78251.png, Label: 1\n",
      "------------------------------------------------------\n",
      "01247.png\n",
      "Image: img/94738.png, Label: 0\n",
      "------------------------------------------------------\n",
      "01247.png\n",
      "Image: img/57823.png, Label: 0\n",
      "------------------------------------------------------\n",
      "01247.png\n",
      "Image: img/32415.png, Label: 0\n",
      "------------------------------------------------------\n",
      "01247.png\n",
      "Image: img/05316.png, Label: 0\n",
      "------------------------------------------------------\n",
      "01247.png\n",
      "Image: img/61085.png, Label: 0\n",
      "------------------------------------------------------\n",
      "01247.png\n",
      "Image: img/27498.png, Label: 1\n",
      "------------------------------------------------------\n",
      "01247.png\n",
      "Image: img/37160.png, Label: 0\n",
      "------------------------------------------------------\n",
      "01247.png\n",
      "Image: img/18742.png, Label: 0\n",
      "------------------------------------------------------\n",
      "01247.png\n",
      "Image: img/19243.png, Label: 0\n",
      "------------------------------------------------------\n",
      "01247.png\n",
      "Image: img/54108.png, Label: 1\n",
      "------------------------------------------------------\n",
      "01247.png\n",
      "Image: img/93528.png, Label: 1\n",
      "------------------------------------------------------\n",
      "01247.png\n",
      "Image: img/78659.png, Label: 0\n",
      "------------------------------------------------------\n",
      "01247.png\n",
      "Image: img/67082.png, Label: 0\n",
      "------------------------------------------------------\n",
      "01247.png\n",
      "Image: img/64125.png, Label: 0\n",
      "------------------------------------------------------\n",
      "01247.png\n",
      "Image: img/41296.png, Label: 0\n",
      "------------------------------------------------------\n",
      "01247.png\n",
      "Image: img/53491.png, Label: 0\n",
      "------------------------------------------------------\n",
      "01247.png\n",
      "Image: img/37692.png, Label: 0\n",
      "------------------------------------------------------\n",
      "01247.png\n",
      "Image: img/36201.png, Label: 0\n",
      "------------------------------------------------------\n",
      "01247.png\n",
      "Image: img/29054.png, Label: 1\n",
      "------------------------------------------------------\n",
      "01247.png\n",
      "Image: img/06273.png, Label: 1\n",
      "------------------------------------------------------\n",
      "01247.png\n",
      "Image: img/25061.png, Label: 1\n",
      "------------------------------------------------------\n",
      "01247.png\n",
      "Image: img/20437.png, Label: 0\n",
      "------------------------------------------------------\n",
      "01247.png\n",
      "Image: img/05439.png, Label: 0\n",
      "------------------------------------------------------\n",
      "01247.png\n",
      "Image: img/34528.png, Label: 1\n",
      "------------------------------------------------------\n",
      "01247.png\n",
      "Image: img/93541.png, Label: 0\n",
      "------------------------------------------------------\n",
      "01247.png\n",
      "Image: img/16704.png, Label: 0\n",
      "------------------------------------------------------\n",
      "01247.png\n",
      "Image: img/48792.png, Label: 0\n",
      "------------------------------------------------------\n",
      "01247.png\n",
      "Image: img/07528.png, Label: 1\n",
      "------------------------------------------------------\n",
      "01247.png\n",
      "Image: img/01268.png, Label: 0\n",
      "------------------------------------------------------\n",
      "01247.png\n",
      "Image: img/83675.png, Label: 0\n",
      "------------------------------------------------------\n",
      "01247.png\n",
      "Image: img/37198.png, Label: 0\n",
      "------------------------------------------------------\n",
      "01247.png\n",
      "Image: img/48670.png, Label: 0\n",
      "------------------------------------------------------\n",
      "01247.png\n",
      "Image: img/09863.png, Label: 0\n",
      "------------------------------------------------------\n",
      "01247.png\n",
      "Image: img/97320.png, Label: 0\n",
      "------------------------------------------------------\n",
      "01247.png\n"
     ]
    }
   ],
   "source": [
    "options= {  # new\n",
    "            \"seed\": 123,\n",
    "            \"temperature\": 0,\n",
    "            \"num_ctx\": 2048, # must be set, otherwise slightly random output\n",
    "        }\n",
    "    \n",
    "llava_7b_labels = {}\n",
    "\n",
    "np.random.seed(0)\n",
    "\n",
    "#for image_name in tqdm(list_of_image_names):\n",
    "for key, value in dev_data.items():\n",
    "    print(f\"Image: {key}, Label: {value}\")\n",
    "    \n",
    "    random_image_index = np.random.randint(0, len(dev_data))\n",
    "    random_image_path = os.path.join(base_path, images_list[random_image_index])\n",
    "    \n",
    "    image_path = os.path.join(base_path, key)\n",
    "    \n",
    "    prompt_1 = \"Is this an offensive meme? Please answer with YES or NO. DO NOT mention the reason: \"\n",
    "    prompt_2 = \"How about this one? (Yes or No)\"\n",
    "#     prompt = \"Is there ? Please answer with YES or NO. DO NOT mention the reason: \"\n",
    "#     prompt = \"Is this somehow an offensive meme? Please answer with YES or NO: \"\n",
    "#     prompt = \"describe this image: \"\n",
    "    \n",
    "    response = ollama.generate(model='llava:7b', prompt=prompt_1, images=[random_image_path], options=options)\n",
    "\n",
    "    response_2 = ollama.generate(model='llava:7b', prompt=prompt_2, images=[image_path], options=options, context=response['context'])\n",
    "    \n",
    "#     response = ollama.chat(model='llava:34b', messages=[\n",
    "#       {\n",
    "#         'role': 'user',\n",
    "#         'content': prompt,\n",
    "#       }, \n",
    "#     ], options= {  # new\n",
    "#             \"seed\": 123,\n",
    "#             \"temperature\": 0,\n",
    "#             \"num_ctx\": 2048, # must be set, otherwise slightly random output\n",
    "#         })\n",
    "    \n",
    "#     print(prompt)\n",
    "    print(\"------------------------------------------------------\")\n",
    "    print(image_name)\n",
    "    # print(response_2['response'])\n",
    "    \n",
    "    label = check_yes_no(response_2['response'])\n",
    "    \n",
    "#     print(label)\n",
    "    \n",
    "    llava_7b_labels[image_name] = label\n",
    "    \n",
    "    # break"
   ]
  },
  {
   "cell_type": "code",
   "execution_count": 12,
   "id": "e6f9367e-7b45-4296-956c-e85fed0a64ba",
   "metadata": {},
   "outputs": [
    {
     "name": "stdout",
     "output_type": "stream",
     "text": [
      "/root/home/data/hateful_memes/27816.png\n"
     ]
    }
   ],
   "source": [
    "print(random_image_path)"
   ]
  },
  {
   "cell_type": "code",
   "execution_count": null,
   "id": "013ea98d-1df8-4953-a320-a2aeb18fbbb2",
   "metadata": {},
   "outputs": [],
   "source": [
    "# Experiment 3 | two prompts\n",
    "\n",
    "options= {  # new\n",
    "            \"seed\": 123,\n",
    "            \"temperature\": 0,\n",
    "            \"num_ctx\": 2048, # must be set, otherwise slightly random output\n",
    "        }\n",
    "    \n",
    "labels_2context_dict = {}\n",
    "\n",
    "np.random.seed(0)\n",
    "for model in list_of_models :\n",
    "    for entry in tqdm(dev_data):\n",
    "        rand_hateful_index = np.random.randint(0, len(gt_hateful))\n",
    "        rand_not_hateful_index = np.random.randint(0, len(gt_not_hateful))\n",
    "        \n",
    "        hateful_path = os.path.join(base_path, \"img\", gt_hateful[rand_hateful_index])\n",
    "        not_hateful_path = os.path.join(base_path, \"img\", gt_not_hateful[rand_not_hateful_index])\n",
    "        \n",
    "        image_path = os.path.join(base_path, entry['img'])\n",
    "        \n",
    "        prompt_1 = \"This is a offensive meme.\"\n",
    "        prompt_2 = \"This is not a offensive meme. \"\n",
    "        prompt_3 = \"Based on the two previous prompts. Is this an offensive meme? answer either yes or no?. \"\n",
    "    \n",
    "        \n",
    "        response_1 = ollama.generate(model=model, prompt=prompt_1, images=[hateful_path], options=options)\n",
    "        response_2 = ollama.generate(model=model, prompt=prompt_2, images=[not_hateful_path], options=options, context=response_1['context'])\n",
    "        response_3 = ollama.generate(model=model, prompt=prompt_3, images=[image_path], options=options, context=response_2['context'])\n",
    "    \n",
    "        label_2context = check_yes_no(response_3['response'])\n",
    "    \n",
    "        image_name =  os.path.basename(entry['img'])\n",
    "        print(label_2context, '--', entry['label'], '--', entry['img'], '--', image_name)\n",
    "    \n",
    "        labels_2context_dict[image_name] = label_2context\n",
    "        break"
   ]
  },
  {
   "cell_type": "code",
   "execution_count": 14,
   "id": "7d0a556f-6c0e-4693-a481-9cc73c6a634b",
   "metadata": {},
   "outputs": [],
   "source": [
    "\n",
    "def compute_metrics(gt, predictions, name, output_file=\"metrics.csv\"):\n",
    "    # Ensure we only evaluate on common keys\n",
    "    common_keys = set(gt.keys()).intersection(predictions.keys())\n",
    "    \n",
    "    # Extract lists of labels based on the common keys, filtering out None values\n",
    "    y_true = []\n",
    "    y_pred = []\n",
    "    for key in common_keys:\n",
    "        pred_label = predictions[key]\n",
    "        if pred_label is not None:\n",
    "            y_true.append(gt[key])\n",
    "            y_pred.append(pred_label)\n",
    "    \n",
    "    # Check if there are valid entries left after filtering\n",
    "    if y_true and y_pred:\n",
    "        # Calculate metrics\n",
    "        precision = precision_score(y_true, y_pred)\n",
    "        recall = recall_score(y_true, y_pred)\n",
    "        f1 = f1_score(y_true, y_pred)\n",
    "        accuracy = accuracy_score(y_true, y_pred)\n",
    "        \n",
    "        # Create a DataFrame to store the results\n",
    "        metrics_df = pd.DataFrame({\n",
    "            \"Model\": [name],\n",
    "            \"Precision\": [precision],\n",
    "            \"Recall\": [recall],\n",
    "            \"F1 Score\": [f1],\n",
    "            \"Accuracy\": [accuracy]\n",
    "        })\n",
    "        \n",
    "        # Display the table\n",
    "        print(metrics_df)\n",
    "        \n",
    "        # Save to a file (append if file already exists)\n",
    "        with open(output_file, \"a\") as f:\n",
    "            metrics_df.to_csv(f, index=False, header=f.tell()==0)\n",
    "    else:\n",
    "        print(f\"No valid entries to compute metrics for {name}\")\n",
    "\n",
    "# Example usage\n",
    "# compute_metrics(gt_dict, predictions_dict, 'Model Metrics')\n"
   ]
  },
  {
   "cell_type": "code",
   "execution_count": null,
   "id": "be31c55e-5e0e-41eb-8350-5cb57f92bf7b",
   "metadata": {},
   "outputs": [],
   "source": []
  }
 ],
 "metadata": {
  "kernelspec": {
   "display_name": "Python 3 (ipykernel)",
   "language": "python",
   "name": "python3"
  },
  "language_info": {
   "codemirror_mode": {
    "name": "ipython",
    "version": 3
   },
   "file_extension": ".py",
   "mimetype": "text/x-python",
   "name": "python",
   "nbconvert_exporter": "python",
   "pygments_lexer": "ipython3",
   "version": "3.10.11"
  }
 },
 "nbformat": 4,
 "nbformat_minor": 5
}
